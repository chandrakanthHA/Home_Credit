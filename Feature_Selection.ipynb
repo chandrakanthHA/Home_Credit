{
 "cells": [
  {
   "cell_type": "code",
   "execution_count": 10,
   "metadata": {},
   "outputs": [],
   "source": [
    "import pandas as pd\n",
    "import numpy as np\n",
    "from scipy import stats\n",
    "from sklearn.preprocessing import MinMaxScaler, StandardScaler\n",
    "\n",
    "from mlxtend.feature_selection import SequentialFeatureSelector as SFS\n",
    "from sklearn.tree import DecisionTreeClassifier\n",
    "\n",
    "import warnings\n",
    "warnings.filterwarnings('ignore')"
   ]
  },
  {
   "cell_type": "code",
   "execution_count": 2,
   "metadata": {},
   "outputs": [],
   "source": [
    "df = pd.read_csv(\"Home_Loan/application_train.csv.tar.gz\")"
   ]
  },
  {
   "cell_type": "code",
   "execution_count": 3,
   "metadata": {},
   "outputs": [],
   "source": [
    "mm_scaler = MinMaxScaler()\n",
    "std_scaler = StandardScaler()\n",
    "\n",
    "def clean_data(df, test=True):\n",
    "    global mm_scaler, std_scaler\n",
    "    \n",
    "    # Drop rows where target value is missing\n",
    "    df.dropna(subset=[\"TARGET\"], inplace=True)\n",
    "    \n",
    "    # Drop rows where important monetary values are missing\n",
    "    df.dropna(subset=[\"AMT_INCOME_TOTAL\", \"AMT_CREDIT\",\n",
    "                      \"AMT_ANNUITY\", \"AMT_GOODS_PRICE\"],\n",
    "              inplace=True)\n",
    "    \n",
    "    # Drop outliers\n",
    "    if not test:\n",
    "        idx = np.all(stats.zscore(df[[\"AMT_INCOME_TOTAL\", \"AMT_CREDIT\",\n",
    "                                      \"AMT_ANNUITY\", \"AMT_GOODS_PRICE\"]]) < 3, axis=1)\n",
    "        df = df[idx]\n",
    "    \n",
    "    # Drop outlier from \"DAYS_EMPLOYED\" and the \"SOCIAL_CIRCLE\" columns\n",
    "    df.drop(index=df[df[\"DAYS_EMPLOYED\"] >= 50000].index, inplace=True)\n",
    "    df.drop(index=df[df[\"OBS_30_CNT_SOCIAL_CIRCLE\"] >= 100].index, inplace=True)\n",
    "    df.drop(index=df[df[\"DEF_30_CNT_SOCIAL_CIRCLE\"] >= 100].index, inplace=True)\n",
    "    df.drop(index=df[df[\"OBS_60_CNT_SOCIAL_CIRCLE\"] >= 100].index, inplace=True)\n",
    "    df.drop(index=df[df[\"DEF_60_CNT_SOCIAL_CIRCLE\"] >= 100].index, inplace=True)\n",
    "    \n",
    "    # Create list y with target values\n",
    "    y = df[\"TARGET\"].astype(\"int\").astype(\"category\")\n",
    "    \n",
    "    # Create DataFrame X for all features\n",
    "    X = pd.DataFrame()\n",
    "    \n",
    "    # Copy already correct columns\n",
    "    X[\"REGION_POPULATION_RELATIVE\"] = df[\"REGION_POPULATION_RELATIVE\"]\n",
    "    \n",
    "    # Convert data types\n",
    "    X[\"FLAG_OWN_CAR\"] = df[\"FLAG_OWN_CAR\"].replace([\"Y\", \"N\"], [1, 0]).astype(\"int\")\n",
    "    X[\"FLAG_OWN_REALTY\"] = df[\"FLAG_OWN_REALTY\"].replace([\"Y\", \"N\"], [1, 0]).astype(\"int\")\n",
    "    X[\"REG_REGION_NOT_LIVE_REGION\"] = df[\"REG_REGION_NOT_LIVE_REGION\"].astype(\"int\")\n",
    "    X[\"REG_REGION_NOT_WORK_REGION\"] = df[\"REG_REGION_NOT_WORK_REGION\"].astype(\"int\")\n",
    "    X[\"LIVE_REGION_NOT_WORK_REGION\"] = df[\"LIVE_REGION_NOT_WORK_REGION\"].astype(\"int\")\n",
    "    X[\"REG_CITY_NOT_LIVE_CITY\"] = df[\"REG_CITY_NOT_LIVE_CITY\"].astype(\"int\")\n",
    "    X[\"REG_CITY_NOT_WORK_CITY\"] = df[\"REG_CITY_NOT_WORK_CITY\"].astype(\"int\")\n",
    "    X[\"FLAG_DOCUMENT_2\"] = df[\"FLAG_DOCUMENT_2\"].astype(\"int\")\n",
    "    X[\"FLAG_DOCUMENT_3\"] = df[\"FLAG_DOCUMENT_3\"].astype(\"int\")\n",
    "    X[\"FLAG_DOCUMENT_4\"] = df[\"FLAG_DOCUMENT_4\"].astype(\"int\")\n",
    "    X[\"FLAG_DOCUMENT_5\"] = df[\"FLAG_DOCUMENT_5\"].astype(\"int\")\n",
    "    X[\"FLAG_DOCUMENT_6\"] = df[\"FLAG_DOCUMENT_6\"].astype(\"int\")\n",
    "    X[\"FLAG_DOCUMENT_7\"] = df[\"FLAG_DOCUMENT_7\"].astype(\"int\")\n",
    "    X[\"FLAG_DOCUMENT_8\"] = df[\"FLAG_DOCUMENT_8\"].astype(\"int\")\n",
    "    X[\"FLAG_DOCUMENT_9\"] = df[\"FLAG_DOCUMENT_9\"].astype(\"int\")\n",
    "    X[\"FLAG_DOCUMENT_10\"] = df[\"FLAG_DOCUMENT_10\"].astype(\"int\")\n",
    "    X[\"FLAG_DOCUMENT_11\"] = df[\"FLAG_DOCUMENT_11\"].astype(\"int\")\n",
    "    X[\"FLAG_DOCUMENT_12\"] = df[\"FLAG_DOCUMENT_12\"].astype(\"int\")\n",
    "    X[\"FLAG_DOCUMENT_13\"] = df[\"FLAG_DOCUMENT_13\"].astype(\"int\")\n",
    "    X[\"FLAG_DOCUMENT_14\"] = df[\"FLAG_DOCUMENT_14\"].astype(\"int\")\n",
    "    X[\"FLAG_DOCUMENT_15\"] = df[\"FLAG_DOCUMENT_15\"].astype(\"int\")\n",
    "    X[\"FLAG_DOCUMENT_16\"] = df[\"FLAG_DOCUMENT_16\"].astype(\"int\")\n",
    "    X[\"FLAG_DOCUMENT_17\"] = df[\"FLAG_DOCUMENT_17\"].astype(\"int\")\n",
    "    X[\"FLAG_DOCUMENT_18\"] = df[\"FLAG_DOCUMENT_18\"].astype(\"int\")\n",
    "    X[\"FLAG_DOCUMENT_19\"] = df[\"FLAG_DOCUMENT_19\"].astype(\"int\")\n",
    "    X[\"FLAG_DOCUMENT_20\"] = df[\"FLAG_DOCUMENT_20\"].astype(\"int\")\n",
    "    X[\"FLAG_DOCUMENT_21\"] = df[\"FLAG_DOCUMENT_21\"].astype(\"int\")\n",
    "    \n",
    "    # Create dummy variables for categorical columns\n",
    "    X = pd.concat([X, pd.get_dummies(df[[\"NAME_CONTRACT_TYPE\", \"CODE_GENDER\", \"NAME_TYPE_SUITE\",\n",
    "                                         \"NAME_INCOME_TYPE\", \"NAME_EDUCATION_TYPE\", \"NAME_FAMILY_STATUS\",\n",
    "                                         \"NAME_HOUSING_TYPE\", \"ORGANIZATION_TYPE\"]],\n",
    "                                     drop_first=True)], 1)\n",
    "    \n",
    "    # Filling all NaNs with mean values\n",
    "    col_names = df.loc[:, \"EXT_SOURCE_1\" : \"NONLIVINGAREA_MEDI\"].columns\n",
    "    X[col_names] = df[col_names].fillna(value=df[col_names].median())\n",
    "    X[\"TOTALAREA_MODE\"] = df[\"TOTALAREA_MODE\"].fillna(value=df[\"TOTALAREA_MODE\"].median())\n",
    "    \n",
    "    social_circle = [\"OBS_30_CNT_SOCIAL_CIRCLE\", \"DEF_30_CNT_SOCIAL_CIRCLE\", \"OBS_60_CNT_SOCIAL_CIRCLE\", \"DEF_60_CNT_SOCIAL_CIRCLE\"]\n",
    "    X[social_circle] = df[social_circle].fillna(value=df[social_circle].median())\n",
    "    \n",
    "    enquiries = [\"AMT_REQ_CREDIT_BUREAU_HOUR\", \"AMT_REQ_CREDIT_BUREAU_DAY\", \"AMT_REQ_CREDIT_BUREAU_WEEK\",\n",
    "                 \"AMT_REQ_CREDIT_BUREAU_MON\", \"AMT_REQ_CREDIT_BUREAU_QRT\", \"AMT_REQ_CREDIT_BUREAU_YEAR\"]\n",
    "    X[enquiries] = df[enquiries].fillna(value=df[enquiries].median())    \n",
    "    \n",
    "    # Use Scaler\n",
    "    if test:\n",
    "        X[[\"CNT_CHILDREN\"]] = mm_scaler.transform(df[[\"CNT_CHILDREN\"]])\n",
    "        X[[\"AMT_INCOME_TOTAL\", \"AMT_CREDIT\", \"AMT_ANNUITY\", \"AMT_GOODS_PRICE\", \"REGION_RATING_CLIENT_W_CITY\"]] = std_scaler.transform(df[[\"AMT_INCOME_TOTAL\", \"AMT_CREDIT\", \"AMT_ANNUITY\", \"AMT_GOODS_PRICE\", \"REGION_RATING_CLIENT_W_CITY\"]])\n",
    "        X[[\"DAYS_BIRTH\", \"DAYS_EMPLOYED\", \"DAYS_REGISTRATION\", \"DAYS_ID_PUBLISH\"]] = mm_scaler.transform(df[[\"DAYS_BIRTH\", \"DAYS_EMPLOYED\", \"DAYS_REGISTRATION\", \"DAYS_ID_PUBLISH\"]] * -1)\n",
    "        X[social_circle] = mm_scaler.transform(X[social_circle])\n",
    "        X[enquiries] = mm_scaler.transform(X[enquiries])\n",
    "    else:\n",
    "        X[[\"CNT_CHILDREN\"]] = mm_scaler.fit_transform(df[[\"CNT_CHILDREN\"]])\n",
    "        X[[\"AMT_INCOME_TOTAL\", \"AMT_CREDIT\", \"AMT_ANNUITY\", \"AMT_GOODS_PRICE\", \"REGION_RATING_CLIENT_W_CITY\"]] = std_scaler.fit_transform(df[[\"AMT_INCOME_TOTAL\", \"AMT_CREDIT\", \"AMT_ANNUITY\", \"AMT_GOODS_PRICE\", \"REGION_RATING_CLIENT_W_CITY\"]])\n",
    "        X[[\"DAYS_BIRTH\", \"DAYS_EMPLOYED\", \"DAYS_REGISTRATION\", \"DAYS_ID_PUBLISH\"]] = mm_scaler.fit_transform(df[[\"DAYS_BIRTH\", \"DAYS_EMPLOYED\", \"DAYS_REGISTRATION\", \"DAYS_ID_PUBLISH\"]] * -1)\n",
    "        X[social_circle] = mm_scaler.fit_transform(X[social_circle])\n",
    "        X[enquiries] = mm_scaler.fit_transform(X[enquiries])\n",
    "    \n",
    "    return X, y"
   ]
  },
  {
   "cell_type": "code",
   "execution_count": 4,
   "metadata": {},
   "outputs": [],
   "source": [
    "X, y = clean_data(df, test=False)"
   ]
  },
  {
   "cell_type": "code",
   "execution_count": 12,
   "metadata": {},
   "outputs": [
    {
     "name": "stderr",
     "output_type": "stream",
     "text": [
      "[Parallel(n_jobs=-1)]: Using backend LokyBackend with 8 concurrent workers.\n",
      "[Parallel(n_jobs=-1)]: Done  34 tasks      | elapsed:    0.9s\n",
      "[Parallel(n_jobs=-1)]: Done 178 out of 178 | elapsed:    5.6s finished\n",
      "\n",
      "[2020-11-03 14:09:34] Features: 1/3 -- score: 0.9426645622655938[Parallel(n_jobs=-1)]: Using backend LokyBackend with 8 concurrent workers.\n",
      "[Parallel(n_jobs=-1)]: Done  25 tasks      | elapsed:   10.5s\n",
      "[Parallel(n_jobs=-1)]: Done 146 tasks      | elapsed:   51.2s\n",
      "[Parallel(n_jobs=-1)]: Done 177 out of 177 | elapsed:  1.0min finished\n",
      "\n",
      "[2020-11-03 14:10:36] Features: 2/3 -- score: 0.9999552543586322[Parallel(n_jobs=-1)]: Using backend LokyBackend with 8 concurrent workers.\n",
      "[Parallel(n_jobs=-1)]: Done  25 tasks      | elapsed:   13.1s\n",
      "[Parallel(n_jobs=-1)]: Done 146 tasks      | elapsed:  1.2min\n",
      "[Parallel(n_jobs=-1)]: Done 176 out of 176 | elapsed:  1.4min finished\n",
      "\n",
      "[2020-11-03 14:11:59] Features: 3/3 -- score: 1.0"
     ]
    },
    {
     "data": {
      "text/plain": [
       "('EXT_SOURCE_2', 'AMT_INCOME_TOTAL', 'DAYS_BIRTH')"
      ]
     },
     "execution_count": 12,
     "metadata": {},
     "output_type": "execute_result"
    }
   ],
   "source": [
    "# Sequential Forward Floating Selection (sffs)\n",
    "sffs = SFS(DecisionTreeClassifier(),\n",
    "           k_features=(3),\n",
    "           forward=True,\n",
    "           floating=False,\n",
    "           verbose=2,\n",
    "           cv=0,\n",
    "           n_jobs=-1)\n",
    "\n",
    "sffs.fit(X, y)\n",
    "\n",
    "sffs.k_feature_names_"
   ]
  },
  {
   "cell_type": "code",
   "execution_count": null,
   "metadata": {},
   "outputs": [],
   "source": []
  }
 ],
 "metadata": {
  "kernelspec": {
   "display_name": "Python 3",
   "language": "python",
   "name": "python3"
  },
  "language_info": {
   "codemirror_mode": {
    "name": "ipython",
    "version": 3
   },
   "file_extension": ".py",
   "mimetype": "text/x-python",
   "name": "python",
   "nbconvert_exporter": "python",
   "pygments_lexer": "ipython3",
   "version": "3.8.5"
  }
 },
 "nbformat": 4,
 "nbformat_minor": 4
}
