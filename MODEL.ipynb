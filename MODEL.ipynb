{
 "cells": [
  {
   "cell_type": "code",
   "execution_count": 218,
   "metadata": {},
   "outputs": [],
   "source": [
    "import pandas as pd\n",
    "import numpy as np\n",
    "import matplotlib.pyplot as plt\n",
    "import seaborn as sns\n",
    "from scipy import stats\n",
    "from time import time\n",
    "from sklearn.preprocessing import MinMaxScaler, StandardScaler\n",
    "from imblearn.under_sampling import RandomUnderSampler\n",
    "from sklearn.model_selection import train_test_split, GridSearchCV, RandomizedSearchCV\n",
    "\n",
    "pd.set_option('display.max.columns', None)"
   ]
  },
  {
   "cell_type": "code",
   "execution_count": 206,
   "metadata": {},
   "outputs": [],
   "source": [
    "# suppress warnings\n",
    "import warnings\n",
    "warnings.filterwarnings('ignore')"
   ]
  },
  {
   "cell_type": "code",
   "execution_count": 207,
   "metadata": {},
   "outputs": [],
   "source": [
    "data = pd.read_csv('Home_Loan/application_train.csv.tar.gz')"
   ]
  },
  {
   "cell_type": "code",
   "execution_count": 208,
   "metadata": {},
   "outputs": [
    {
     "data": {
      "text/plain": [
       "(307512, 122)"
      ]
     },
     "execution_count": 208,
     "metadata": {},
     "output_type": "execute_result"
    }
   ],
   "source": [
    "data.shape"
   ]
  },
  {
   "cell_type": "code",
   "execution_count": 209,
   "metadata": {},
   "outputs": [],
   "source": [
    "y = data.iloc[:,1:2]\n",
    "X = data.drop('TARGET', axis=1)"
   ]
  },
  {
   "cell_type": "code",
   "execution_count": 210,
   "metadata": {},
   "outputs": [
    {
     "data": {
      "text/plain": [
       "(307512, 121)"
      ]
     },
     "execution_count": 210,
     "metadata": {},
     "output_type": "execute_result"
    }
   ],
   "source": [
    "X.shape"
   ]
  },
  {
   "cell_type": "code",
   "execution_count": 211,
   "metadata": {},
   "outputs": [],
   "source": [
    "# splitting the data \n",
    "\n",
    "RSEED = 42\n",
    "X_train, X_test, y_train, y_test = train_test_split(X, y, test_size=0.3, random_state = RSEED)"
   ]
  },
  {
   "cell_type": "code",
   "execution_count": 212,
   "metadata": {},
   "outputs": [],
   "source": [
    "std_scaler = StandardScaler()\n",
    "mm_scaler = MinMaxScaler()\n",
    "\n",
    "def clean_data(X, y, test=True):\n",
    "    global mm_scaler, std_scaler\n",
    "    \n",
    "    df = pd.concat([X, y], axis=1)\n",
    "    \n",
    "    # Drop rows where target value is missing\n",
    "    df.dropna(subset=[\"TARGET\"], inplace=True)\n",
    "    \n",
    "    # Drop rows where important monetary values are missing\n",
    "    df.dropna(subset=[\"AMT_INCOME_TOTAL\", \"AMT_CREDIT\",\n",
    "                      \"AMT_ANNUITY\", \"AMT_GOODS_PRICE\"],\n",
    "              inplace=True)\n",
    "    \n",
    "    # Drop outliers\n",
    "    if not test:\n",
    "        idx = np.all(stats.zscore(df[[\"AMT_INCOME_TOTAL\", \"AMT_CREDIT\",\n",
    "                                      \"AMT_ANNUITY\", \"AMT_GOODS_PRICE\"]]) < 3, axis=1)\n",
    "        df = df[idx]\n",
    "    \n",
    "    # Drop outlier from \"DAYS_EMPLOYED\" and the \"SOCIAL_CIRCLE\" columns\n",
    "    df.drop(index=df[df[\"DAYS_EMPLOYED\"] >= 50000].index, inplace=True)\n",
    "    df.drop(index=df[df[\"OBS_30_CNT_SOCIAL_CIRCLE\"] >= 100].index, inplace=True)\n",
    "    df.drop(index=df[df[\"DEF_30_CNT_SOCIAL_CIRCLE\"] >= 100].index, inplace=True)\n",
    "    df.drop(index=df[df[\"OBS_60_CNT_SOCIAL_CIRCLE\"] >= 100].index, inplace=True)\n",
    "    df.drop(index=df[df[\"DEF_60_CNT_SOCIAL_CIRCLE\"] >= 100].index, inplace=True)\n",
    "    \n",
    "    # Create list y with target values\n",
    "    y = df[\"TARGET\"].astype(\"int\").astype(\"category\")\n",
    "    \n",
    "    # Create DataFrame X for all features\n",
    "    X = pd.DataFrame()\n",
    "    \n",
    "    # Copy already correct columns\n",
    "    X[\"REGION_POPULATION_RELATIVE\"] = df[\"REGION_POPULATION_RELATIVE\"]\n",
    "    \n",
    "    # Convert data types\n",
    "    X[\"FLAG_OWN_CAR\"] = df[\"FLAG_OWN_CAR\"].replace([\"Y\", \"N\"], [1, 0]).astype(\"int\")\n",
    "    X[\"FLAG_OWN_REALTY\"] = df[\"FLAG_OWN_REALTY\"].replace([\"Y\", \"N\"], [1, 0]).astype(\"int\")\n",
    "    X[\"REG_REGION_NOT_LIVE_REGION\"] = df[\"REG_REGION_NOT_LIVE_REGION\"].astype(\"int\")\n",
    "    X[\"REG_REGION_NOT_WORK_REGION\"] = df[\"REG_REGION_NOT_WORK_REGION\"].astype(\"int\")\n",
    "    X[\"LIVE_REGION_NOT_WORK_REGION\"] = df[\"LIVE_REGION_NOT_WORK_REGION\"].astype(\"int\")\n",
    "    X[\"REG_CITY_NOT_LIVE_CITY\"] = df[\"REG_CITY_NOT_LIVE_CITY\"].astype(\"int\")\n",
    "    X[\"REG_CITY_NOT_WORK_CITY\"] = df[\"REG_CITY_NOT_WORK_CITY\"].astype(\"int\")\n",
    "    X[\"FLAG_DOCUMENT_2\"] = df[\"FLAG_DOCUMENT_2\"].astype(\"int\")\n",
    "    X[\"FLAG_DOCUMENT_3\"] = df[\"FLAG_DOCUMENT_3\"].astype(\"int\")\n",
    "    X[\"FLAG_DOCUMENT_4\"] = df[\"FLAG_DOCUMENT_4\"].astype(\"int\")\n",
    "    X[\"FLAG_DOCUMENT_5\"] = df[\"FLAG_DOCUMENT_5\"].astype(\"int\")\n",
    "    X[\"FLAG_DOCUMENT_6\"] = df[\"FLAG_DOCUMENT_6\"].astype(\"int\")\n",
    "    X[\"FLAG_DOCUMENT_7\"] = df[\"FLAG_DOCUMENT_7\"].astype(\"int\")\n",
    "    X[\"FLAG_DOCUMENT_8\"] = df[\"FLAG_DOCUMENT_8\"].astype(\"int\")\n",
    "    X[\"FLAG_DOCUMENT_9\"] = df[\"FLAG_DOCUMENT_9\"].astype(\"int\")\n",
    "    X[\"FLAG_DOCUMENT_10\"] = df[\"FLAG_DOCUMENT_10\"].astype(\"int\")\n",
    "    X[\"FLAG_DOCUMENT_11\"] = df[\"FLAG_DOCUMENT_11\"].astype(\"int\")\n",
    "    X[\"FLAG_DOCUMENT_12\"] = df[\"FLAG_DOCUMENT_12\"].astype(\"int\")\n",
    "    X[\"FLAG_DOCUMENT_13\"] = df[\"FLAG_DOCUMENT_13\"].astype(\"int\")\n",
    "    X[\"FLAG_DOCUMENT_14\"] = df[\"FLAG_DOCUMENT_14\"].astype(\"int\")\n",
    "    X[\"FLAG_DOCUMENT_15\"] = df[\"FLAG_DOCUMENT_15\"].astype(\"int\")\n",
    "    X[\"FLAG_DOCUMENT_16\"] = df[\"FLAG_DOCUMENT_16\"].astype(\"int\")\n",
    "    X[\"FLAG_DOCUMENT_17\"] = df[\"FLAG_DOCUMENT_17\"].astype(\"int\")\n",
    "    X[\"FLAG_DOCUMENT_18\"] = df[\"FLAG_DOCUMENT_18\"].astype(\"int\")\n",
    "    X[\"FLAG_DOCUMENT_19\"] = df[\"FLAG_DOCUMENT_19\"].astype(\"int\")\n",
    "    X[\"FLAG_DOCUMENT_20\"] = df[\"FLAG_DOCUMENT_20\"].astype(\"int\")\n",
    "    X[\"FLAG_DOCUMENT_21\"] = df[\"FLAG_DOCUMENT_21\"].astype(\"int\")\n",
    "    \n",
    "    # Create dummy variables for categorical columns\n",
    "    X = pd.concat([X, pd.get_dummies(df[[\"NAME_CONTRACT_TYPE\", \"CODE_GENDER\", \"NAME_TYPE_SUITE\",\n",
    "                                         \"NAME_INCOME_TYPE\", \"NAME_EDUCATION_TYPE\", \"NAME_FAMILY_STATUS\",\n",
    "                                         \"NAME_HOUSING_TYPE\", \"ORGANIZATION_TYPE\"]],\n",
    "                                     drop_first=True)],  axis=1)\n",
    "    \n",
    "    # Filling all NaNs with mean values\n",
    "    col_names = df.loc[:, \"EXT_SOURCE_1\" : \"NONLIVINGAREA_MEDI\"].columns\n",
    "    X[col_names] = df[col_names].fillna(value=df[col_names].median())\n",
    "    X[\"TOTALAREA_MODE\"] = df[\"TOTALAREA_MODE\"].fillna(value=df[\"TOTALAREA_MODE\"].median())\n",
    "    \n",
    "    social_circle = [\"OBS_30_CNT_SOCIAL_CIRCLE\", \"DEF_30_CNT_SOCIAL_CIRCLE\",\n",
    "                     \"OBS_60_CNT_SOCIAL_CIRCLE\", \"DEF_60_CNT_SOCIAL_CIRCLE\"]\n",
    "    X[social_circle] = df[social_circle].fillna(value=df[social_circle].median())\n",
    "    \n",
    "    enquiries = [\"AMT_REQ_CREDIT_BUREAU_HOUR\", \"AMT_REQ_CREDIT_BUREAU_DAY\",\n",
    "                 \"AMT_REQ_CREDIT_BUREAU_WEEK\", \"AMT_REQ_CREDIT_BUREAU_MON\",\n",
    "                 \"AMT_REQ_CREDIT_BUREAU_QRT\", \"AMT_REQ_CREDIT_BUREAU_YEAR\"]\n",
    "    X[enquiries] = df[enquiries].fillna(value=df[enquiries].median())    \n",
    "    \n",
    "    # Making time span variables positive\n",
    "    timespanes = [\"DAYS_BIRTH\", \"DAYS_EMPLOYED\",\n",
    "                 \"DAYS_REGISTRATION\", \"DAYS_ID_PUBLISH\"]\n",
    "    X[timespanes] = df[timespanes] * -1\n",
    "    \n",
    "    # Use Scaler\n",
    "    std_scaled = [\"AMT_INCOME_TOTAL\", \"AMT_CREDIT\", \"AMT_ANNUITY\",\n",
    "                  \"AMT_GOODS_PRICE\", \"REGION_RATING_CLIENT_W_CITY\"]\n",
    "    X[\"CNT_CHILDREN\"] = df[\"CNT_CHILDREN\"]\n",
    "    mm_scaled = [\"CNT_CHILDREN\", \"DAYS_BIRTH\", \"DAYS_EMPLOYED\", \"DAYS_REGISTRATION\",\n",
    "                 \"DAYS_ID_PUBLISH\", \"OBS_30_CNT_SOCIAL_CIRCLE\", \"DEF_30_CNT_SOCIAL_CIRCLE\",\n",
    "                 \"OBS_60_CNT_SOCIAL_CIRCLE\", \"DEF_60_CNT_SOCIAL_CIRCLE\", \"AMT_REQ_CREDIT_BUREAU_HOUR\",\n",
    "                 \"AMT_REQ_CREDIT_BUREAU_DAY\", \"AMT_REQ_CREDIT_BUREAU_WEEK\", \"AMT_REQ_CREDIT_BUREAU_MON\",\n",
    "                 \"AMT_REQ_CREDIT_BUREAU_QRT\", \"AMT_REQ_CREDIT_BUREAU_YEAR\"]\n",
    "        \n",
    "    if test:\n",
    "        X[std_scaled] = std_scaler.transform(df[std_scaled])\n",
    "        X[mm_scaled] = mm_scaler.transform(X[mm_scaled])\n",
    "    else:\n",
    "        X[std_scaled] = std_scaler.fit_transform(df[std_scaled])\n",
    "        X[mm_scaled] = mm_scaler.fit_transform(X[mm_scaled])\n",
    "    \n",
    "    return X, y"
   ]
  },
  {
   "cell_type": "code",
   "execution_count": 215,
   "metadata": {},
   "outputs": [],
   "source": [
    "# preparing X and y train data for balancing\n",
    "X_train_clean, y_train_clean = clean_data(X_train, y_train, test=False)"
   ]
  },
  {
   "cell_type": "code",
   "execution_count": 216,
   "metadata": {},
   "outputs": [],
   "source": [
    "# cleaning test data set for prediction purpose\n",
    "X_test_clean, y_test_clean = clean_data(X_test, y_test, test=True)"
   ]
  },
  {
   "cell_type": "code",
   "execution_count": 217,
   "metadata": {},
   "outputs": [],
   "source": [
    "# define undersample strategy\n",
    "undersample = RandomUnderSampler(sampling_strategy='majority',random_state=RSEED)\n",
    "\n",
    "# fit and apply the transform\n",
    "X_train_under, y_train_under = undersample.fit_resample(X_train_clean, y_train_clean)"
   ]
  },
  {
   "cell_type": "code",
   "execution_count": 219,
   "metadata": {},
   "outputs": [],
   "source": [
    "# importing Regression models and evaluation matrices\n",
    "from sklearn.linear_model import LogisticRegression\n",
    "from sklearn.ensemble import RandomForestClassifier\n",
    "from sklearn.tree import DecisionTreeClassifier\n",
    "from xgboost import XGBClassifier\n",
    "from sklearn.metrics import classification_report, confusion_matrix, plot_confusion_matrix\n",
    "from sklearn.metrics import precision_score, recall_score, roc_auc_score, roc_curve, f1_score\n",
    "from sklearn.metrics import fbeta_score, accuracy_score, make_scorer, mean_squared_error\n",
    "from math import sqrt\n",
    "import itertools"
   ]
  },
  {
   "cell_type": "code",
   "execution_count": 220,
   "metadata": {},
   "outputs": [],
   "source": [
    "# Function for model training\n",
    "\n",
    "def train_predict(learner, sample_size, X_train, y_train, X_test, y_test): \n",
    "    '''\n",
    "    inputs:\n",
    "       - learner: the learning algorithm to be trained and predicted on\n",
    "       - sample_size: the size of samples (number) to be drawn from training set\n",
    "       - X_train: features training set\n",
    "       - y_train: income training set\n",
    "       - X_test: features testing set\n",
    "       - y_test: income testing set\n",
    "    '''\n",
    "    \n",
    "    results = {}\n",
    "    \n",
    "    # TODO: Fit the learner to the training data using slicing with 'sample_size'\n",
    "    start = time() # Get start time\n",
    "    learner = learner.fit(X_train[:sample_size] ,y_train[:sample_size])\n",
    "    end = time() # Get end time\n",
    "      \n",
    "    # Calculate the training time\n",
    "    results['train_time'] = end - start\n",
    "        \n",
    "    # Get the predictions on the test set,\n",
    "    # then get predictions on the first 1000 training samples\n",
    "    start = time() # Get start time\n",
    "    predictions_test = learner.predict(X_test)\n",
    "    predictions_train = learner.predict(X_train)\n",
    "    predictions_test_prob = learner.predict_proba(X_test)[:,1]\n",
    "    predictions_train_prob = learner.predict_proba(X_train)[:,1]\n",
    "    end = time() # Get end time\n",
    "    \n",
    "    '''\n",
    "    Evaluation through different parameters\n",
    "    '''\n",
    "    \n",
    "    # Calculate the total prediction time\n",
    "    results['pred_time'] = end - start\n",
    "            \n",
    "    # Compute accuracy on the train set\n",
    "    results['acc_train'] = accuracy_score(y_train,predictions_train)\n",
    "        \n",
    "    # Compute accuracy on test set\n",
    "    results['acc_test'] = accuracy_score(y_test,predictions_test)\n",
    "    \n",
    "    # Compute F-score on the the train set\n",
    "    results['f_beta_train'] = fbeta_score(y_train ,predictions_train,beta=2)\n",
    "        \n",
    "    # Compute F_beta-score on the test set\n",
    "    results['f_beta_test'] = fbeta_score(y_test,predictions_test,beta=2)\n",
    "    \n",
    "    # Compute Precision_score on the train set\n",
    "    results['Precision_train'] = precision_score(y_train, predictions_train)\n",
    "    \n",
    "    # Compute Precision_score on the test set\n",
    "    results['Precision_test'] = precision_score(y_test, predictions_test)\n",
    "    \n",
    "    # Compute Recall_score on the train set\n",
    "    results['Recall_train'] = recall_score(y_train ,predictions_train)\n",
    "    \n",
    "    # Compute Recall_score on the test set\n",
    "    results['Recall_test'] = recall_score(y_test, predictions_test)\n",
    "    \n",
    "    # Compute roc_auc_score on the train set\n",
    "    results['Roc_Auc_Score_train'] = roc_auc_score(y_train ,predictions_train)\n",
    "    \n",
    "    # Compute roc_auc_score on the train set\n",
    "    results['Roc_Auc_Score_test'] = roc_auc_score(y_test, predictions_test)\n",
    "    \n",
    "    # Compute f1_score on the train set\n",
    "    results['F1_score_train'] = f1_score(y_train ,predictions_train)\n",
    "    \n",
    "    # Compute f1_score on the test set\n",
    "    results['F1_score_test'] = f1_score(y_test ,predictions_test)\n",
    "    \n",
    "    # Compute RMSE on the train set\n",
    "    results['RMSE_train'] = sqrt(mean_squared_error(y_train ,predictions_train))\n",
    "    \n",
    "    \n",
    "    # Compute RMSE on the test set\n",
    "    results['RMSE_test'] = sqrt(mean_squared_error(y_test ,predictions_test))\n",
    "    \n",
    "    \n",
    "    # Success\n",
    "    print (\"{} trained on {} samples.\".format(learner.__class__.__name__, sample_size))\n",
    "    print(\"*\" *100)\n",
    "    print()\n",
    "    \n",
    "    '''\n",
    "    Evaluation through confusion matrix and ROC_CURVE plot\n",
    "    '''\n",
    "    \n",
    "    # confusion matrix\n",
    "    cm = confusion_matrix(y_test, predictions_test)\n",
    "    #cm = cm.astype('float') / cm.sum(axis=1)[:, np.newaxis] # normalize the data\n",
    "    \n",
    "    # plotting the confusion matrix\n",
    "    disp = plot_confusion_matrix(learner, X_test, y_test,\n",
    "                             display_labels=['non-defaulter', 'defaulter'],\n",
    "                             cmap=plt.cm.Blues, \n",
    "                             normalize=None,\n",
    "                             values_format = 'd')\n",
    "\n",
    "    plt.grid(False)\n",
    "    plt.show()\n",
    "    print()\n",
    "    print()\n",
    "    \n",
    "    # Calculate false positive rates and true positive rates\n",
    "    base_fpr, base_tpr, _   = roc_curve(y_test, [1 for _ in range(len(y_test))])\n",
    "    model_fpr, model_tpr, _ = roc_curve(y_test, predictions_test_prob)\n",
    "    \n",
    "    # plotting the ROC_curve:\n",
    "    plt.figure(figsize = (8, 6))\n",
    "    plt.rcParams['font.size'] = 16\n",
    "    \n",
    "    # Plot both curves\n",
    "    plt.plot(base_fpr, base_tpr, 'b', label = 'baseline')\n",
    "    plt.plot(model_fpr, model_tpr, 'r', label = 'model')\n",
    "    plt.legend();\n",
    "    plt.xlabel('False Positive Rate'); \n",
    "    plt.ylabel('True Positive Rate'); plt.title('ROC Curves');\n",
    "    plt.show();\n",
    "    \n",
    "    # Return the results\n",
    "    return results"
   ]
  },
  {
   "cell_type": "code",
   "execution_count": 257,
   "metadata": {},
   "outputs": [
    {
     "name": "stdout",
     "output_type": "stream",
     "text": [
      "LogisticRegression trained on 30116 samples.\n",
      "****************************************************************************************************\n",
      "\n"
     ]
    },
    {
     "data": {
      "image/png": "[encoded data removed]",
      "text/plain": [
       "<Figure size 432x288 with 2 Axes>"
      ]
     },
     "metadata": {
      "needs_background": "light"
     },
     "output_type": "display_data"
    },
    {
     "name": "stdout",
     "output_type": "stream",
     "text": [
      "\n",
      "\n"
     ]
    },
    {
     "data": {
      "image/png": "[encoded data removed]",
      "text/plain": [
       "<Figure size 576x432 with 1 Axes>"
      ]
     },
     "metadata": {
      "needs_background": "light"
     },
     "output_type": "display_data"
    },
    {
     "name": "stdout",
     "output_type": "stream",
     "text": [
      "DecisionTreeClassifier trained on 30116 samples.\n",
      "****************************************************************************************************\n",
      "\n"
     ]
    },
    {
     "data": {
      "image/png": "[encoded data removed]",
      "text/plain": [
       "<Figure size 432x288 with 2 Axes>"
      ]
     },
     "metadata": {
      "needs_background": "light"
     },
     "output_type": "display_data"
    },
    {
     "name": "stdout",
     "output_type": "stream",
     "text": [
      "\n",
      "\n"
     ]
    },
    {
     "data": {
      "image/png": "[encoded data removed]",
      "text/plain": [
       "<Figure size 576x432 with 1 Axes>"
      ]
     },
     "metadata": {
      "needs_background": "light"
     },
     "output_type": "display_data"
    },
    {
     "name": "stderr",
     "output_type": "stream",
     "text": [
      "[Parallel(n_jobs=-1)]: Using backend ThreadingBackend with 8 concurrent workers.\n",
      "[Parallel(n_jobs=-1)]: Done  34 tasks      | elapsed:    0.1s\n",
      "[Parallel(n_jobs=-1)]: Done 196 out of 196 | elapsed:    0.4s finished\n",
      "[Parallel(n_jobs=8)]: Using backend ThreadingBackend with 8 concurrent workers.\n",
      "[Parallel(n_jobs=8)]: Done  34 tasks      | elapsed:    0.0s\n",
      "[Parallel(n_jobs=8)]: Done 196 out of 196 | elapsed:    0.1s finished\n",
      "[Parallel(n_jobs=8)]: Using backend ThreadingBackend with 8 concurrent workers.\n",
      "[Parallel(n_jobs=8)]: Done  34 tasks      | elapsed:    0.0s\n",
      "[Parallel(n_jobs=8)]: Done 196 out of 196 | elapsed:    0.1s finished\n",
      "[Parallel(n_jobs=8)]: Using backend ThreadingBackend with 8 concurrent workers.\n",
      "[Parallel(n_jobs=8)]: Done  34 tasks      | elapsed:    0.0s\n",
      "[Parallel(n_jobs=8)]: Done 196 out of 196 | elapsed:    0.1s finished\n",
      "[Parallel(n_jobs=8)]: Using backend ThreadingBackend with 8 concurrent workers.\n",
      "[Parallel(n_jobs=8)]: Done  34 tasks      | elapsed:    0.0s\n",
      "[Parallel(n_jobs=8)]: Done 196 out of 196 | elapsed:    0.1s finished\n",
      "[Parallel(n_jobs=8)]: Using backend ThreadingBackend with 8 concurrent workers.\n"
     ]
    },
    {
     "name": "stdout",
     "output_type": "stream",
     "text": [
      "RandomForestClassifier trained on 30116 samples.\n",
      "****************************************************************************************************\n",
      "\n"
     ]
    },
    {
     "name": "stderr",
     "output_type": "stream",
     "text": [
      "[Parallel(n_jobs=8)]: Done  34 tasks      | elapsed:    0.0s\n",
      "[Parallel(n_jobs=8)]: Done 196 out of 196 | elapsed:    0.1s finished\n"
     ]
    },
    {
     "data": {
      "image/png": "[encoded data removed]",
      "text/plain": [
       "<Figure size 432x288 with 2 Axes>"
      ]
     },
     "metadata": {
      "needs_background": "light"
     },
     "output_type": "display_data"
    },
    {
     "name": "stdout",
     "output_type": "stream",
     "text": [
      "\n",
      "\n"
     ]
    },
    {
     "data": {
      "image/png": "[encoded data removed]",
      "text/plain": [
       "<Figure size 576x432 with 1 Axes>"
      ]
     },
     "metadata": {
      "needs_background": "light"
     },
     "output_type": "display_data"
    },
    {
     "name": "stdout",
     "output_type": "stream",
     "text": [
      "XGBClassifier trained on 30116 samples.\n",
      "****************************************************************************************************\n",
      "\n"
     ]
    },
    {
     "data": {
      "image/png": "[encoded data removed]",
      "text/plain": [
       "<Figure size 432x288 with 2 Axes>"
      ]
     },
     "metadata": {
      "needs_background": "light"
     },
     "output_type": "display_data"
    },
    {
     "name": "stdout",
     "output_type": "stream",
     "text": [
      "\n",
      "\n"
     ]
    },
    {
     "data": {
      "image/png": "[encoded data removed]",
      "text/plain": [
       "<Figure size 576x432 with 1 Axes>"
      ]
     },
     "metadata": {
      "needs_background": "light"
     },
     "output_type": "display_data"
    }
   ],
   "source": [
    "# Initialize the three models, the random states are set to constant RSEED so we know how to reproduce the model later\n",
    "clf_A = LogisticRegression(random_state=RSEED)\n",
    "\n",
    "clf_B = DecisionTreeClassifier(random_state=RSEED)\n",
    "\n",
    "clf_C = RandomForestClassifier(n_estimators=196, min_samples_split = 2, \n",
    "                               max_leaf_nodes = 49, max_depth = 17, \n",
    "                               bootstrap = True, max_features = 'auto', \n",
    "                               min_weight_fraction_leaf = 0.1,  \n",
    "                               n_jobs=-1, verbose = 1)\n",
    "\n",
    "clf_D = XGBClassifier(n_estimators = 200, gamma = 100, \n",
    "                      learning_rate = 0.01, max_depth = 12, booster = 'gbtree',\n",
    "                      scale_pos_weight = 1.5, objective='binary:logistic')\n",
    "\n",
    "# Length of Training data stored in a variable as sample size\n",
    "samples = len(X_train_under)\n",
    "\n",
    "# Considering only the most important features from EDA to build prediction models\n",
    "imp_features = [\n",
    "                'REGION_POPULATION_RELATIVE', 'FLAG_OWN_CAR', 'FLAG_OWN_REALTY', \n",
    "                'REG_REGION_NOT_LIVE_REGION', 'REG_REGION_NOT_WORK_REGION', \n",
    "                'LIVE_REGION_NOT_WORK_REGION', 'REG_CITY_NOT_LIVE_CITY', \n",
    "                'REG_CITY_NOT_WORK_CITY', 'FLAG_DOCUMENT_2', 'FLAG_DOCUMENT_3', \n",
    "                'FLAG_DOCUMENT_4', 'FLAG_DOCUMENT_5', 'FLAG_DOCUMENT_6', \n",
    "                'FLAG_DOCUMENT_7', 'FLAG_DOCUMENT_8', 'FLAG_DOCUMENT_9', \n",
    "                'FLAG_DOCUMENT_10', 'NAME_FAMILY_STATUS_Married', \n",
    "                'EXT_SOURCE_2', 'DAYS_BIRTH'\n",
    "                ]\n",
    "\n",
    "# Collect results on the learners\n",
    "results = {}\n",
    "\n",
    "for clf in [clf_A, clf_B, clf_C, clf_D]:\n",
    "    clf_name = clf.__class__.__name__\n",
    "    results[clf_name] = {}\n",
    "    results[clf_name] = \\\n",
    "    train_predict(clf, samples, X_train_under[imp_features], \n",
    "                  y_train_under, X_test_clean[imp_features], y_test_clean)"
   ]
  },
  {
   "cell_type": "code",
   "execution_count": 258,
   "metadata": {},
   "outputs": [
    {
     "name": "stdout",
     "output_type": "stream",
     "text": [
      "LogisticRegression\n"
     ]
    },
    {
     "data": {
      "text/html": [
       "<div>\n",
       "<style scoped>\n",
       "    .dataframe tbody tr th:only-of-type {\n",
       "        vertical-align: middle;\n",
       "    }\n",
       "\n",
       "    .dataframe tbody tr th {\n",
       "        vertical-align: top;\n",
       "    }\n",
       "\n",
       "    .dataframe thead th {\n",
       "        text-align: right;\n",
       "    }\n",
       "</style>\n",
       "<table border=\"1\" class=\"dataframe\">\n",
       "  <thead>\n",
       "    <tr style=\"text-align: right;\">\n",
       "      <th></th>\n",
       "      <th>100 % Data</th>\n",
       "    </tr>\n",
       "  </thead>\n",
       "  <tbody>\n",
       "    <tr>\n",
       "      <th>train_time</th>\n",
       "      <td>0.247551</td>\n",
       "    </tr>\n",
       "    <tr>\n",
       "      <th>pred_time</th>\n",
       "      <td>0.022606</td>\n",
       "    </tr>\n",
       "    <tr>\n",
       "      <th>acc_train</th>\n",
       "      <td>0.623024</td>\n",
       "    </tr>\n",
       "    <tr>\n",
       "      <th>acc_test</th>\n",
       "      <td>0.669333</td>\n",
       "    </tr>\n",
       "    <tr>\n",
       "      <th>f_beta_train</th>\n",
       "      <td>0.587642</td>\n",
       "    </tr>\n",
       "    <tr>\n",
       "      <th>f_beta_test</th>\n",
       "      <td>0.359426</td>\n",
       "    </tr>\n",
       "    <tr>\n",
       "      <th>Precision_train</th>\n",
       "      <td>0.635565</td>\n",
       "    </tr>\n",
       "    <tr>\n",
       "      <th>Precision_test</th>\n",
       "      <td>0.143965</td>\n",
       "    </tr>\n",
       "    <tr>\n",
       "      <th>Recall_train</th>\n",
       "      <td>0.576770</td>\n",
       "    </tr>\n",
       "    <tr>\n",
       "      <th>Recall_test</th>\n",
       "      <td>0.574308</td>\n",
       "    </tr>\n",
       "    <tr>\n",
       "      <th>Roc_Auc_Score_train</th>\n",
       "      <td>0.623024</td>\n",
       "    </tr>\n",
       "    <tr>\n",
       "      <th>Roc_Auc_Score_test</th>\n",
       "      <td>0.626297</td>\n",
       "    </tr>\n",
       "    <tr>\n",
       "      <th>F1_score_train</th>\n",
       "      <td>0.604742</td>\n",
       "    </tr>\n",
       "    <tr>\n",
       "      <th>F1_score_test</th>\n",
       "      <td>0.230219</td>\n",
       "    </tr>\n",
       "    <tr>\n",
       "      <th>RMSE_train</th>\n",
       "      <td>0.613983</td>\n",
       "    </tr>\n",
       "    <tr>\n",
       "      <th>RMSE_test</th>\n",
       "      <td>0.575036</td>\n",
       "    </tr>\n",
       "  </tbody>\n",
       "</table>\n",
       "</div>"
      ],
      "text/plain": [
       "                     100 % Data\n",
       "train_time             0.247551\n",
       "pred_time              0.022606\n",
       "acc_train              0.623024\n",
       "acc_test               0.669333\n",
       "f_beta_train           0.587642\n",
       "f_beta_test            0.359426\n",
       "Precision_train        0.635565\n",
       "Precision_test         0.143965\n",
       "Recall_train           0.576770\n",
       "Recall_test            0.574308\n",
       "Roc_Auc_Score_train    0.623024\n",
       "Roc_Auc_Score_test     0.626297\n",
       "F1_score_train         0.604742\n",
       "F1_score_test          0.230219\n",
       "RMSE_train             0.613983\n",
       "RMSE_test              0.575036"
      ]
     },
     "metadata": {},
     "output_type": "display_data"
    },
    {
     "name": "stdout",
     "output_type": "stream",
     "text": [
      "DecisionTreeClassifier\n"
     ]
    },
    {
     "data": {
      "text/html": [
       "<div>\n",
       "<style scoped>\n",
       "    .dataframe tbody tr th:only-of-type {\n",
       "        vertical-align: middle;\n",
       "    }\n",
       "\n",
       "    .dataframe tbody tr th {\n",
       "        vertical-align: top;\n",
       "    }\n",
       "\n",
       "    .dataframe thead th {\n",
       "        text-align: right;\n",
       "    }\n",
       "</style>\n",
       "<table border=\"1\" class=\"dataframe\">\n",
       "  <thead>\n",
       "    <tr style=\"text-align: right;\">\n",
       "      <th></th>\n",
       "      <th>100 % Data</th>\n",
       "    </tr>\n",
       "  </thead>\n",
       "  <tbody>\n",
       "    <tr>\n",
       "      <th>train_time</th>\n",
       "      <td>0.170180</td>\n",
       "    </tr>\n",
       "    <tr>\n",
       "      <th>pred_time</th>\n",
       "      <td>0.071891</td>\n",
       "    </tr>\n",
       "    <tr>\n",
       "      <th>acc_train</th>\n",
       "      <td>1.000000</td>\n",
       "    </tr>\n",
       "    <tr>\n",
       "      <th>acc_test</th>\n",
       "      <td>0.547314</td>\n",
       "    </tr>\n",
       "    <tr>\n",
       "      <th>f_beta_train</th>\n",
       "      <td>1.000000</td>\n",
       "    </tr>\n",
       "    <tr>\n",
       "      <th>f_beta_test</th>\n",
       "      <td>0.285790</td>\n",
       "    </tr>\n",
       "    <tr>\n",
       "      <th>Precision_train</th>\n",
       "      <td>1.000000</td>\n",
       "    </tr>\n",
       "    <tr>\n",
       "      <th>Precision_test</th>\n",
       "      <td>0.100104</td>\n",
       "    </tr>\n",
       "    <tr>\n",
       "      <th>Recall_train</th>\n",
       "      <td>1.000000</td>\n",
       "    </tr>\n",
       "    <tr>\n",
       "      <th>Recall_test</th>\n",
       "      <td>0.532923</td>\n",
       "    </tr>\n",
       "    <tr>\n",
       "      <th>Roc_Auc_Score_train</th>\n",
       "      <td>1.000000</td>\n",
       "    </tr>\n",
       "    <tr>\n",
       "      <th>Roc_Auc_Score_test</th>\n",
       "      <td>0.540796</td>\n",
       "    </tr>\n",
       "    <tr>\n",
       "      <th>F1_score_train</th>\n",
       "      <td>1.000000</td>\n",
       "    </tr>\n",
       "    <tr>\n",
       "      <th>F1_score_test</th>\n",
       "      <td>0.168548</td>\n",
       "    </tr>\n",
       "    <tr>\n",
       "      <th>RMSE_train</th>\n",
       "      <td>0.000000</td>\n",
       "    </tr>\n",
       "    <tr>\n",
       "      <th>RMSE_test</th>\n",
       "      <td>0.672820</td>\n",
       "    </tr>\n",
       "  </tbody>\n",
       "</table>\n",
       "</div>"
      ],
      "text/plain": [
       "                     100 % Data\n",
       "train_time             0.170180\n",
       "pred_time              0.071891\n",
       "acc_train              1.000000\n",
       "acc_test               0.547314\n",
       "f_beta_train           1.000000\n",
       "f_beta_test            0.285790\n",
       "Precision_train        1.000000\n",
       "Precision_test         0.100104\n",
       "Recall_train           1.000000\n",
       "Recall_test            0.532923\n",
       "Roc_Auc_Score_train    1.000000\n",
       "Roc_Auc_Score_test     0.540796\n",
       "F1_score_train         1.000000\n",
       "F1_score_test          0.168548\n",
       "RMSE_train             0.000000\n",
       "RMSE_test              0.672820"
      ]
     },
     "metadata": {},
     "output_type": "display_data"
    },
    {
     "name": "stdout",
     "output_type": "stream",
     "text": [
      "RandomForestClassifier\n"
     ]
    },
    {
     "data": {
      "text/html": [
       "<div>\n",
       "<style scoped>\n",
       "    .dataframe tbody tr th:only-of-type {\n",
       "        vertical-align: middle;\n",
       "    }\n",
       "\n",
       "    .dataframe tbody tr th {\n",
       "        vertical-align: top;\n",
       "    }\n",
       "\n",
       "    .dataframe thead th {\n",
       "        text-align: right;\n",
       "    }\n",
       "</style>\n",
       "<table border=\"1\" class=\"dataframe\">\n",
       "  <thead>\n",
       "    <tr style=\"text-align: right;\">\n",
       "      <th></th>\n",
       "      <th>100 % Data</th>\n",
       "    </tr>\n",
       "  </thead>\n",
       "  <tbody>\n",
       "    <tr>\n",
       "      <th>train_time</th>\n",
       "      <td>0.464325</td>\n",
       "    </tr>\n",
       "    <tr>\n",
       "      <th>pred_time</th>\n",
       "      <td>0.445853</td>\n",
       "    </tr>\n",
       "    <tr>\n",
       "      <th>acc_train</th>\n",
       "      <td>0.616782</td>\n",
       "    </tr>\n",
       "    <tr>\n",
       "      <th>acc_test</th>\n",
       "      <td>0.681705</td>\n",
       "    </tr>\n",
       "    <tr>\n",
       "      <th>f_beta_train</th>\n",
       "      <td>0.565892</td>\n",
       "    </tr>\n",
       "    <tr>\n",
       "      <th>f_beta_test</th>\n",
       "      <td>0.348883</td>\n",
       "    </tr>\n",
       "    <tr>\n",
       "      <th>Precision_train</th>\n",
       "      <td>0.634473</td>\n",
       "    </tr>\n",
       "    <tr>\n",
       "      <th>Precision_test</th>\n",
       "      <td>0.143554</td>\n",
       "    </tr>\n",
       "    <tr>\n",
       "      <th>Recall_train</th>\n",
       "      <td>0.551003</td>\n",
       "    </tr>\n",
       "    <tr>\n",
       "      <th>Recall_test</th>\n",
       "      <td>0.543077</td>\n",
       "    </tr>\n",
       "    <tr>\n",
       "      <th>Roc_Auc_Score_train</th>\n",
       "      <td>0.616782</td>\n",
       "    </tr>\n",
       "    <tr>\n",
       "      <th>Roc_Auc_Score_test</th>\n",
       "      <td>0.618921</td>\n",
       "    </tr>\n",
       "    <tr>\n",
       "      <th>F1_score_train</th>\n",
       "      <td>0.589799</td>\n",
       "    </tr>\n",
       "    <tr>\n",
       "      <th>F1_score_test</th>\n",
       "      <td>0.227083</td>\n",
       "    </tr>\n",
       "    <tr>\n",
       "      <th>RMSE_train</th>\n",
       "      <td>0.619046</td>\n",
       "    </tr>\n",
       "    <tr>\n",
       "      <th>RMSE_test</th>\n",
       "      <td>0.564176</td>\n",
       "    </tr>\n",
       "  </tbody>\n",
       "</table>\n",
       "</div>"
      ],
      "text/plain": [
       "                     100 % Data\n",
       "train_time             0.464325\n",
       "pred_time              0.445853\n",
       "acc_train              0.616782\n",
       "acc_test               0.681705\n",
       "f_beta_train           0.565892\n",
       "f_beta_test            0.348883\n",
       "Precision_train        0.634473\n",
       "Precision_test         0.143554\n",
       "Recall_train           0.551003\n",
       "Recall_test            0.543077\n",
       "Roc_Auc_Score_train    0.616782\n",
       "Roc_Auc_Score_test     0.618921\n",
       "F1_score_train         0.589799\n",
       "F1_score_test          0.227083\n",
       "RMSE_train             0.619046\n",
       "RMSE_test              0.564176"
      ]
     },
     "metadata": {},
     "output_type": "display_data"
    },
    {
     "name": "stdout",
     "output_type": "stream",
     "text": [
      "XGBClassifier\n"
     ]
    },
    {
     "data": {
      "text/html": [
       "<div>\n",
       "<style scoped>\n",
       "    .dataframe tbody tr th:only-of-type {\n",
       "        vertical-align: middle;\n",
       "    }\n",
       "\n",
       "    .dataframe tbody tr th {\n",
       "        vertical-align: top;\n",
       "    }\n",
       "\n",
       "    .dataframe thead th {\n",
       "        text-align: right;\n",
       "    }\n",
       "</style>\n",
       "<table border=\"1\" class=\"dataframe\">\n",
       "  <thead>\n",
       "    <tr style=\"text-align: right;\">\n",
       "      <th></th>\n",
       "      <th>100 % Data</th>\n",
       "    </tr>\n",
       "  </thead>\n",
       "  <tbody>\n",
       "    <tr>\n",
       "      <th>train_time</th>\n",
       "      <td>15.513012</td>\n",
       "    </tr>\n",
       "    <tr>\n",
       "      <th>pred_time</th>\n",
       "      <td>0.649031</td>\n",
       "    </tr>\n",
       "    <tr>\n",
       "      <th>acc_train</th>\n",
       "      <td>0.585470</td>\n",
       "    </tr>\n",
       "    <tr>\n",
       "      <th>acc_test</th>\n",
       "      <td>0.392882</td>\n",
       "    </tr>\n",
       "    <tr>\n",
       "      <th>f_beta_train</th>\n",
       "      <td>0.759875</td>\n",
       "    </tr>\n",
       "    <tr>\n",
       "      <th>f_beta_test</th>\n",
       "      <td>0.357504</td>\n",
       "    </tr>\n",
       "    <tr>\n",
       "      <th>Precision_train</th>\n",
       "      <td>0.556937</td>\n",
       "    </tr>\n",
       "    <tr>\n",
       "      <th>Precision_test</th>\n",
       "      <td>0.108506</td>\n",
       "    </tr>\n",
       "    <tr>\n",
       "      <th>Recall_train</th>\n",
       "      <td>0.836034</td>\n",
       "    </tr>\n",
       "    <tr>\n",
       "      <th>Recall_test</th>\n",
       "      <td>0.838615</td>\n",
       "    </tr>\n",
       "    <tr>\n",
       "      <th>Roc_Auc_Score_train</th>\n",
       "      <td>0.585470</td>\n",
       "    </tr>\n",
       "    <tr>\n",
       "      <th>Roc_Auc_Score_test</th>\n",
       "      <td>0.594753</td>\n",
       "    </tr>\n",
       "    <tr>\n",
       "      <th>F1_score_train</th>\n",
       "      <td>0.668525</td>\n",
       "    </tr>\n",
       "    <tr>\n",
       "      <th>F1_score_test</th>\n",
       "      <td>0.192150</td>\n",
       "    </tr>\n",
       "    <tr>\n",
       "      <th>RMSE_train</th>\n",
       "      <td>0.643840</td>\n",
       "    </tr>\n",
       "    <tr>\n",
       "      <th>RMSE_test</th>\n",
       "      <td>0.779178</td>\n",
       "    </tr>\n",
       "  </tbody>\n",
       "</table>\n",
       "</div>"
      ],
      "text/plain": [
       "                     100 % Data\n",
       "train_time            15.513012\n",
       "pred_time              0.649031\n",
       "acc_train              0.585470\n",
       "acc_test               0.392882\n",
       "f_beta_train           0.759875\n",
       "f_beta_test            0.357504\n",
       "Precision_train        0.556937\n",
       "Precision_test         0.108506\n",
       "Recall_train           0.836034\n",
       "Recall_test            0.838615\n",
       "Roc_Auc_Score_train    0.585470\n",
       "Roc_Auc_Score_test     0.594753\n",
       "F1_score_train         0.668525\n",
       "F1_score_test          0.192150\n",
       "RMSE_train             0.643840\n",
       "RMSE_test              0.779178"
      ]
     },
     "metadata": {},
     "output_type": "display_data"
    }
   ],
   "source": [
    "# Printing out the rasult values\n",
    "for i in results.items():\n",
    "    print (i[0])\n",
    "    display(pd.DataFrame.from_dict(i[1], orient='index').rename(columns={0:'100 % Data'}))"
   ]
  },
  {
   "cell_type": "markdown",
   "metadata": {},
   "source": [
    "### Randomforest model with RandomSearchCV"
   ]
  },
  {
   "cell_type": "code",
   "execution_count": 149,
   "metadata": {},
   "outputs": [],
   "source": [
    "# creating a valid argument for scoring parameter in RandomSearchCV\n",
    "ftwo_scorer = make_scorer(fbeta_score, beta=2)"
   ]
  },
  {
   "cell_type": "code",
   "execution_count": 238,
   "metadata": {},
   "outputs": [],
   "source": [
    "# Hyperparameter tuning\n",
    "param_grid = {\n",
    "             'n_estimators': np.linspace(10, 200).astype(int),\n",
    "             'max_depth': [None] + list(np.linspace(3, 20).astype(int)),\n",
    "             'max_features': ['auto', 'sqrt', None] + list(np.arange(0.5, 1, 0.1)),\n",
    "             'max_leaf_nodes': [None] + list(np.linspace(10, 50, 500).astype(int)),\n",
    "             'min_samples_split': [2, 5, 10],\n",
    "             'bootstrap': [True, False]\n",
    "             }\n",
    "\n",
    "# Estimator for use in random search\n",
    "estimator = RandomForestClassifier(random_state = RSEED)\n",
    "\n",
    "# Create the random search model\n",
    "rs = RandomizedSearchCV(estimator, param_grid, n_jobs = -1, \n",
    "                        scoring = ftwo_scorer, cv = 5, \n",
    "                        n_iter = 10, verbose = 5, random_state=RSEED)"
   ]
  },
  {
   "cell_type": "code",
   "execution_count": 239,
   "metadata": {},
   "outputs": [
    {
     "name": "stdout",
     "output_type": "stream",
     "text": [
      "Fitting 5 folds for each of 10 candidates, totalling 50 fits\n"
     ]
    },
    {
     "name": "stderr",
     "output_type": "stream",
     "text": [
      "[Parallel(n_jobs=-1)]: Using backend LokyBackend with 8 concurrent workers.\n",
      "[Parallel(n_jobs=-1)]: Done   2 tasks      | elapsed:   20.2s\n",
      "[Parallel(n_jobs=-1)]: Done  46 out of  50 | elapsed:  3.8min remaining:   19.8s\n",
      "[Parallel(n_jobs=-1)]: Done  50 out of  50 | elapsed:  4.0min finished\n"
     ]
    },
    {
     "data": {
      "text/plain": [
       "{'n_estimators': 196,\n",
       " 'min_samples_split': 10,\n",
       " 'max_leaf_nodes': 49,\n",
       " 'max_features': 0.7,\n",
       " 'max_depth': 17,\n",
       " 'bootstrap': True}"
      ]
     },
     "execution_count": 239,
     "metadata": {},
     "output_type": "execute_result"
    }
   ],
   "source": [
    "# getting best parameter by fitting the model \n",
    "rs.fit(X_train_under, y_train_under)\n",
    "rs.best_params_"
   ]
  },
  {
   "cell_type": "markdown",
   "metadata": {},
   "source": [
    "#### Using the best model estimator for the prediction "
   ]
  },
  {
   "cell_type": "code",
   "execution_count": 244,
   "metadata": {},
   "outputs": [],
   "source": [
    "# getting the best estimator \n",
    "best_model = rs.best_estimator_"
   ]
  },
  {
   "cell_type": "code",
   "execution_count": 241,
   "metadata": {},
   "outputs": [],
   "source": [
    "# predicting using the best estimator\n",
    "train_rf_predictions = best_model.predict(X_train_under)\n",
    "train_rf_probs = best_model.predict_proba(X_train_under)[:, 1]\n",
    "\n",
    "test_rf_predictions = best_model.predict(X_test_clean)\n",
    "test_rf_probs = best_model.predict_proba(X_test_clean)[:, 1]"
   ]
  },
  {
   "cell_type": "code",
   "execution_count": 242,
   "metadata": {},
   "outputs": [
    {
     "name": "stdout",
     "output_type": "stream",
     "text": [
      "              precision    recall  f1-score   support\n",
      "\n",
      "           0       0.95      0.69      0.80     68996\n",
      "           1       0.17      0.65      0.26      6500\n",
      "\n",
      "    accuracy                           0.69     75496\n",
      "   macro avg       0.56      0.67      0.53     75496\n",
      "weighted avg       0.89      0.69      0.76     75496\n",
      "\n"
     ]
    }
   ],
   "source": [
    "# Printing the result summary of Best model performance\n",
    "print(classification_report(y_test_clean, test_rf_predictions))"
   ]
  },
  {
   "cell_type": "code",
   "execution_count": 245,
   "metadata": {},
   "outputs": [
    {
     "name": "stdout",
     "output_type": "stream",
     "text": [
      "[[47876 21120]\n",
      " [ 2289  4211]]\n"
     ]
    }
   ],
   "source": [
    "# evaluating and plotting through confusion matrix\n",
    "print(confusion_matrix(y_test_clean, test_rf_predictions))"
   ]
  },
  {
   "cell_type": "markdown",
   "metadata": {},
   "source": [
    "### Randomforest model with GridSearchCV"
   ]
  },
  {
   "cell_type": "code",
   "execution_count": 164,
   "metadata": {},
   "outputs": [
    {
     "name": "stdout",
     "output_type": "stream",
     "text": [
      "Fitting 5 folds for each of 1620 candidates, totalling 8100 fits\n"
     ]
    },
    {
     "name": "stderr",
     "output_type": "stream",
     "text": [
      "[Parallel(n_jobs=-1)]: Using backend LokyBackend with 8 concurrent workers.\n",
      "[Parallel(n_jobs=-1)]: Done   2 tasks      | elapsed:    2.5s\n",
      "[Parallel(n_jobs=-1)]: Done  56 tasks      | elapsed:   10.3s\n",
      "[Parallel(n_jobs=-1)]: Done 146 tasks      | elapsed:   25.1s\n",
      "[Parallel(n_jobs=-1)]: Done 272 tasks      | elapsed:   46.0s\n",
      "[Parallel(n_jobs=-1)]: Done 434 tasks      | elapsed:  1.2min\n",
      "[Parallel(n_jobs=-1)]: Done 632 tasks      | elapsed:  1.8min\n",
      "[Parallel(n_jobs=-1)]: Done 866 tasks      | elapsed:  2.4min\n",
      "[Parallel(n_jobs=-1)]: Done 1136 tasks      | elapsed:  5.2min\n",
      "[Parallel(n_jobs=-1)]: Done 1442 tasks      | elapsed:  5.9min\n",
      "[Parallel(n_jobs=-1)]: Done 1784 tasks      | elapsed:  7.0min\n",
      "[Parallel(n_jobs=-1)]: Done 2162 tasks      | elapsed:  8.3min\n",
      "[Parallel(n_jobs=-1)]: Done 2576 tasks      | elapsed:  9.3min\n",
      "[Parallel(n_jobs=-1)]: Done 3026 tasks      | elapsed: 12.1min\n",
      "[Parallel(n_jobs=-1)]: Done 3512 tasks      | elapsed: 13.8min\n",
      "[Parallel(n_jobs=-1)]: Done 4034 tasks      | elapsed: 15.1min\n",
      "[Parallel(n_jobs=-1)]: Done 4592 tasks      | elapsed: 17.3min\n",
      "[Parallel(n_jobs=-1)]: Done 5186 tasks      | elapsed: 19.3min\n",
      "[Parallel(n_jobs=-1)]: Done 5816 tasks      | elapsed: 21.5min\n",
      "[Parallel(n_jobs=-1)]: Done 6482 tasks      | elapsed: 24.0min\n",
      "[Parallel(n_jobs=-1)]: Done 7184 tasks      | elapsed: 26.5min\n",
      "[Parallel(n_jobs=-1)]: Done 7922 tasks      | elapsed: 29.2min\n",
      "[Parallel(n_jobs=-1)]: Done 8100 out of 8100 | elapsed: 29.7min finished\n"
     ]
    },
    {
     "data": {
      "text/plain": [
       "GridSearchCV(cv=5, estimator=RandomForestClassifier(random_state=42), n_jobs=-1,\n",
       "             param_grid={'bootstrap': [True, False], 'max_depth': [3, 5, 12],\n",
       "                         'max_features': ['auto', 'sqrt', 'log2'],\n",
       "                         'max_leaf_nodes': [5, 10, 20],\n",
       "                         'min_samples_split': [2, 5, 10, 15, 20],\n",
       "                         'min_weight_fraction_leaf': [0.1],\n",
       "                         'n_estimators': [10, 18, 22, 50, 100, 200]},\n",
       "             scoring='roc_auc', verbose=5)"
      ]
     },
     "execution_count": 164,
     "metadata": {},
     "output_type": "execute_result"
    }
   ],
   "source": [
    "# Hyperparameter tuning\n",
    "param_grid = { \n",
    "            'n_estimators': [10, 18, 22, 50, 100, 200],\n",
    "            'max_depth': [3, 5, 12],\n",
    "            'max_features': [\"auto\", \"sqrt\", \"log2\"],\n",
    "            'max_leaf_nodes': [5, 10, 20],\n",
    "            'min_samples_split': [2, 5, 10, 15, 20],\n",
    "            'bootstrap': [True, False], \n",
    "            \"min_weight_fraction_leaf\": [0.1]\n",
    "            }\n",
    "\n",
    "# Estimator for use in Grid search\n",
    "estimator = RandomForestClassifier(random_state = RSEED)\n",
    "\n",
    "# Create the Grid search model\n",
    "gs = GridSearchCV(estimator, param_grid, n_jobs = -1, \n",
    "                        scoring = 'roc_auc', cv = 5, \n",
    "                        verbose = 5)"
   ]
  },
  {
   "cell_type": "markdown",
   "metadata": {},
   "source": [
    "#### Using the best model estimator for the prediction "
   ]
  },
  {
   "cell_type": "code",
   "execution_count": 165,
   "metadata": {},
   "outputs": [
    {
     "data": {
      "text/plain": [
       "{'bootstrap': True,\n",
       " 'max_depth': 12,\n",
       " 'max_features': 'auto',\n",
       " 'max_leaf_nodes': 10,\n",
       " 'min_samples_split': 2,\n",
       " 'min_weight_fraction_leaf': 0.1,\n",
       " 'n_estimators': 200}"
      ]
     },
     "execution_count": 165,
     "metadata": {},
     "output_type": "execute_result"
    }
   ],
   "source": [
    "# getting the best parameter by fitting the model\n",
    "gs.fit(X_train_under, y_train_under)\n",
    "gs.best_params_"
   ]
  },
  {
   "cell_type": "code",
   "execution_count": 232,
   "metadata": {},
   "outputs": [],
   "source": [
    "# getting the best estimator \n",
    "best_model = gs.best_estimator_"
   ]
  },
  {
   "cell_type": "code",
   "execution_count": 233,
   "metadata": {},
   "outputs": [],
   "source": [
    "# predicting using the best estimator model\n",
    "train_rf_predictions = best_model.predict(X_under_train)\n",
    "train_rf_probs = best_model.predict_proba(X_under_train)[:, 1]\n",
    "\n",
    "test_rf_predictions = best_model.predict(X_test_clean)\n",
    "test_rf_probs = best_model.predict_proba(X_test_clean)[:, 1]"
   ]
  },
  {
   "cell_type": "code",
   "execution_count": 234,
   "metadata": {},
   "outputs": [
    {
     "name": "stdout",
     "output_type": "stream",
     "text": [
      "              precision    recall  f1-score   support\n",
      "\n",
      "           0       0.94      0.77      0.85     68996\n",
      "           1       0.16      0.47      0.24      6500\n",
      "\n",
      "    accuracy                           0.75     75496\n",
      "   macro avg       0.55      0.62      0.55     75496\n",
      "weighted avg       0.87      0.75      0.80     75496\n",
      "\n"
     ]
    }
   ],
   "source": [
    "# Printing the result summary of Best model performance\n",
    "print(classification_report(y_test_clean, test_rf_predictions))"
   ]
  },
  {
   "cell_type": "code",
   "execution_count": 254,
   "metadata": {},
   "outputs": [
    {
     "name": "stdout",
     "output_type": "stream",
     "text": [
      "[[47876 21120]\n",
      " [ 2289  4211]]\n"
     ]
    }
   ],
   "source": [
    "# evaluating and plotting through confusion matrix\n",
    "print(confusion_matrix(y_test_clean, test_rf_predictions))"
   ]
  }
 ],
 "metadata": {
  "kernelspec": {
   "display_name": "Python 3",
   "language": "python",
   "name": "python3"
  },
  "language_info": {
   "codemirror_mode": {
    "name": "ipython",
    "version": 3
   },
   "file_extension": ".py",
   "mimetype": "text/x-python",
   "name": "python",
   "nbconvert_exporter": "python",
   "pygments_lexer": "ipython3",
   "version": "3.8.5"
  }
 },
 "nbformat": 4,
 "nbformat_minor": 4
}
