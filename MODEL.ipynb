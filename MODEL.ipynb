{
 "cells": [
  {
   "cell_type": "code",
   "execution_count": 1,
   "metadata": {},
   "outputs": [],
   "source": [
    "import pandas as pd\n",
    "import numpy as np\n",
    "import matplotlib.pyplot as plt\n",
    "import seaborn as sns\n",
    "from scipy import stats\n",
    "from time import time\n",
    "from sklearn.preprocessing import MinMaxScaler, StandardScaler\n",
    "\n",
    "pd.set_option('display.max.columns', None)"
   ]
  },
  {
   "cell_type": "code",
   "execution_count": 2,
   "metadata": {},
   "outputs": [],
   "source": [
    "# suppress warnings\n",
    "import warnings\n",
    "warnings.filterwarnings('ignore')"
   ]
  },
  {
   "cell_type": "code",
   "execution_count": 3,
   "metadata": {},
   "outputs": [],
   "source": [
    "data = pd.read_csv('Home_Loan/application_train.csv.tar.gz')"
   ]
  },
  {
   "cell_type": "code",
   "execution_count": 4,
   "metadata": {},
   "outputs": [
    {
     "data": {
      "text/plain": [
       "(307512, 122)"
      ]
     },
     "execution_count": 4,
     "metadata": {},
     "output_type": "execute_result"
    }
   ],
   "source": [
    "data.shape"
   ]
  },
  {
   "cell_type": "code",
   "execution_count": 5,
   "metadata": {},
   "outputs": [],
   "source": [
    "data_test = pd.read_csv('Home_Loan/application_test.csv.tar.gz')"
   ]
  },
  {
   "cell_type": "code",
   "execution_count": 6,
   "metadata": {},
   "outputs": [
    {
     "data": {
      "text/plain": [
       "(48745, 121)"
      ]
     },
     "execution_count": 6,
     "metadata": {},
     "output_type": "execute_result"
    }
   ],
   "source": [
    "data_test.shape"
   ]
  },
  {
   "cell_type": "code",
   "execution_count": 7,
   "metadata": {},
   "outputs": [
    {
     "data": {
      "text/plain": [
       "282686"
      ]
     },
     "execution_count": 7,
     "metadata": {},
     "output_type": "execute_result"
    }
   ],
   "source": [
    "data['TARGET'].value_counts()[0]"
   ]
  },
  {
   "cell_type": "markdown",
   "metadata": {},
   "source": [
    "### Dealing with imbalanced data (go for undersampling technique)"
   ]
  },
  {
   "cell_type": "code",
   "execution_count": 8,
   "metadata": {},
   "outputs": [],
   "source": [
    "# Function for balancing the train data set\n",
    "\n",
    "def balanced_data(df):\n",
    "    \n",
    "    # Storing total under sampled class in a variable\n",
    "    n_default = df['TARGET'].value_counts()[1]\n",
    "    \n",
    "    # Shuffle the Dataset.\n",
    "    shuffled_df = df.sample(frac=1,random_state=4)\n",
    "\n",
    "    # Put all the default class in a separate dataset.\n",
    "    default_df = shuffled_df.loc[shuffled_df['TARGET'] == 1.0]\n",
    "\n",
    "    #Randomly select 24804 observations from the non-default (majority class)\n",
    "    non_default_df = shuffled_df.loc[shuffled_df['TARGET'] == 0.0].sample(n=n_default,random_state=42)\n",
    "\n",
    "    # Concatenate both dataframes again\n",
    "    balanced_df = pd.concat([default_df, non_default_df])\n",
    "\n",
    "    #plot the dataset after the undersampling\n",
    "    plt.figure(figsize=(8, 8))\n",
    "    sns.countplot('TARGET', data=balanced_df)\n",
    "    plt.title('Balanced Classes')\n",
    "    plt.show()\n",
    "    \n",
    "    return balanced_df"
   ]
  },
  {
   "cell_type": "code",
   "execution_count": 9,
   "metadata": {},
   "outputs": [
    {
     "data": {
      "image/png": "[encoded data removed]",
      "text/plain": [
       "<Figure size 576x576 with 1 Axes>"
      ]
     },
     "metadata": {
      "needs_background": "light"
     },
     "output_type": "display_data"
    }
   ],
   "source": [
    "normalized_data = balanced_data(data)"
   ]
  },
  {
   "cell_type": "code",
   "execution_count": 10,
   "metadata": {},
   "outputs": [
    {
     "data": {
      "text/plain": [
       "(49650, 122)"
      ]
     },
     "execution_count": 10,
     "metadata": {},
     "output_type": "execute_result"
    }
   ],
   "source": [
    "normalized_data.shape"
   ]
  },
  {
   "cell_type": "code",
   "execution_count": 11,
   "metadata": {},
   "outputs": [],
   "source": [
    "mm_scaler = MinMaxScaler()\n",
    "std_scaler = StandardScaler()\n",
    "\n",
    "def clean_data(df, test=True):\n",
    "    global mm_scaler, std_scaler\n",
    "    \n",
    "    # Drop rows where target value is missing\n",
    "    df.dropna(subset=[\"TARGET\"], inplace=True)\n",
    "    \n",
    "    # Drop rows where important monetary values are missing\n",
    "    df.dropna(subset=[\"AMT_INCOME_TOTAL\", \"AMT_CREDIT\",\n",
    "                      \"AMT_ANNUITY\", \"AMT_GOODS_PRICE\"],\n",
    "              inplace=True)\n",
    "    \n",
    "    # Drop outliers\n",
    "    if not test:\n",
    "        idx = np.all(stats.zscore(df[[\"AMT_INCOME_TOTAL\", \"AMT_CREDIT\",\n",
    "                                      \"AMT_ANNUITY\", \"AMT_GOODS_PRICE\"]]) < 3, axis=1)\n",
    "        df = df[idx]\n",
    "    \n",
    "    # Drop outlier from \"DAYS_EMPLOYED\" and the \"SOCIAL_CIRCLE\" columns\n",
    "    df.drop(index=df[df[\"DAYS_EMPLOYED\"] >= 50000].index, inplace=True)\n",
    "    df.drop(index=df[df[\"OBS_30_CNT_SOCIAL_CIRCLE\"] >= 100].index, inplace=True)\n",
    "    df.drop(index=df[df[\"DEF_30_CNT_SOCIAL_CIRCLE\"] >= 100].index, inplace=True)\n",
    "    df.drop(index=df[df[\"OBS_60_CNT_SOCIAL_CIRCLE\"] >= 100].index, inplace=True)\n",
    "    df.drop(index=df[df[\"DEF_60_CNT_SOCIAL_CIRCLE\"] >= 100].index, inplace=True)\n",
    "    \n",
    "    # Create list y with target values\n",
    "    y = df[\"TARGET\"].astype(\"int\").astype(\"category\")\n",
    "    \n",
    "    # Create DataFrame X for all features\n",
    "    X = pd.DataFrame()\n",
    "    \n",
    "    # Copy already correct columns\n",
    "    X[\"REGION_POPULATION_RELATIVE\"] = df[\"REGION_POPULATION_RELATIVE\"]\n",
    "    \n",
    "    # Convert data types\n",
    "    X[\"FLAG_OWN_CAR\"] = df[\"FLAG_OWN_CAR\"].replace([\"Y\", \"N\"], [1, 0]).astype(\"int\")\n",
    "    X[\"FLAG_OWN_REALTY\"] = df[\"FLAG_OWN_REALTY\"].replace([\"Y\", \"N\"], [1, 0]).astype(\"int\")\n",
    "    X[\"REG_REGION_NOT_LIVE_REGION\"] = df[\"REG_REGION_NOT_LIVE_REGION\"].astype(\"int\")\n",
    "    X[\"REG_REGION_NOT_WORK_REGION\"] = df[\"REG_REGION_NOT_WORK_REGION\"].astype(\"int\")\n",
    "    X[\"LIVE_REGION_NOT_WORK_REGION\"] = df[\"LIVE_REGION_NOT_WORK_REGION\"].astype(\"int\")\n",
    "    X[\"REG_CITY_NOT_LIVE_CITY\"] = df[\"REG_CITY_NOT_LIVE_CITY\"].astype(\"int\")\n",
    "    X[\"REG_CITY_NOT_WORK_CITY\"] = df[\"REG_CITY_NOT_WORK_CITY\"].astype(\"int\")\n",
    "    X[\"FLAG_DOCUMENT_2\"] = df[\"FLAG_DOCUMENT_2\"].astype(\"int\")\n",
    "    X[\"FLAG_DOCUMENT_3\"] = df[\"FLAG_DOCUMENT_3\"].astype(\"int\")\n",
    "    X[\"FLAG_DOCUMENT_4\"] = df[\"FLAG_DOCUMENT_4\"].astype(\"int\")\n",
    "    X[\"FLAG_DOCUMENT_5\"] = df[\"FLAG_DOCUMENT_5\"].astype(\"int\")\n",
    "    X[\"FLAG_DOCUMENT_6\"] = df[\"FLAG_DOCUMENT_6\"].astype(\"int\")\n",
    "    X[\"FLAG_DOCUMENT_7\"] = df[\"FLAG_DOCUMENT_7\"].astype(\"int\")\n",
    "    X[\"FLAG_DOCUMENT_8\"] = df[\"FLAG_DOCUMENT_8\"].astype(\"int\")\n",
    "    X[\"FLAG_DOCUMENT_9\"] = df[\"FLAG_DOCUMENT_9\"].astype(\"int\")\n",
    "    X[\"FLAG_DOCUMENT_10\"] = df[\"FLAG_DOCUMENT_10\"].astype(\"int\")\n",
    "    X[\"FLAG_DOCUMENT_11\"] = df[\"FLAG_DOCUMENT_11\"].astype(\"int\")\n",
    "    X[\"FLAG_DOCUMENT_12\"] = df[\"FLAG_DOCUMENT_12\"].astype(\"int\")\n",
    "    X[\"FLAG_DOCUMENT_13\"] = df[\"FLAG_DOCUMENT_13\"].astype(\"int\")\n",
    "    X[\"FLAG_DOCUMENT_14\"] = df[\"FLAG_DOCUMENT_14\"].astype(\"int\")\n",
    "    X[\"FLAG_DOCUMENT_15\"] = df[\"FLAG_DOCUMENT_15\"].astype(\"int\")\n",
    "    X[\"FLAG_DOCUMENT_16\"] = df[\"FLAG_DOCUMENT_16\"].astype(\"int\")\n",
    "    X[\"FLAG_DOCUMENT_17\"] = df[\"FLAG_DOCUMENT_17\"].astype(\"int\")\n",
    "    X[\"FLAG_DOCUMENT_18\"] = df[\"FLAG_DOCUMENT_18\"].astype(\"int\")\n",
    "    X[\"FLAG_DOCUMENT_19\"] = df[\"FLAG_DOCUMENT_19\"].astype(\"int\")\n",
    "    X[\"FLAG_DOCUMENT_20\"] = df[\"FLAG_DOCUMENT_20\"].astype(\"int\")\n",
    "    X[\"FLAG_DOCUMENT_21\"] = df[\"FLAG_DOCUMENT_21\"].astype(\"int\")\n",
    "    \n",
    "    # Create dummy variables for categorical columns\n",
    "    X = pd.concat([X, pd.get_dummies(df[[\"NAME_CONTRACT_TYPE\", \"CODE_GENDER\", \"NAME_TYPE_SUITE\",\n",
    "                                         \"NAME_INCOME_TYPE\", \"NAME_EDUCATION_TYPE\", \"NAME_FAMILY_STATUS\",\n",
    "                                         \"NAME_HOUSING_TYPE\", \"ORGANIZATION_TYPE\"]],\n",
    "                                     drop_first=True)], 1)\n",
    "    \n",
    "    # Filling all NaNs with mean values\n",
    "    col_names = df.loc[:, \"EXT_SOURCE_1\" : \"NONLIVINGAREA_MEDI\"].columns\n",
    "    X[col_names] = df[col_names].fillna(value=df[col_names].median())\n",
    "    X[\"TOTALAREA_MODE\"] = df[\"TOTALAREA_MODE\"].fillna(value=df[\"TOTALAREA_MODE\"].median())\n",
    "    \n",
    "    social_circle = [\"OBS_30_CNT_SOCIAL_CIRCLE\", \"DEF_30_CNT_SOCIAL_CIRCLE\", \"OBS_60_CNT_SOCIAL_CIRCLE\", \"DEF_60_CNT_SOCIAL_CIRCLE\"]\n",
    "    X[social_circle] = df[social_circle].fillna(value=df[social_circle].median())\n",
    "    \n",
    "    enquiries = [\"AMT_REQ_CREDIT_BUREAU_HOUR\", \"AMT_REQ_CREDIT_BUREAU_DAY\", \"AMT_REQ_CREDIT_BUREAU_WEEK\",\n",
    "                 \"AMT_REQ_CREDIT_BUREAU_MON\", \"AMT_REQ_CREDIT_BUREAU_QRT\", \"AMT_REQ_CREDIT_BUREAU_YEAR\"]\n",
    "    X[enquiries] = df[enquiries].fillna(value=df[enquiries].median())    \n",
    "    \n",
    "    # Use Scaler\n",
    "    if test:\n",
    "        X[[\"CNT_CHILDREN\"]] = mm_scaler.transform(df[[\"CNT_CHILDREN\"]])\n",
    "        X[[\"AMT_INCOME_TOTAL\", \"AMT_CREDIT\", \"AMT_ANNUITY\", \"AMT_GOODS_PRICE\", \"REGION_RATING_CLIENT_W_CITY\"]] = std_scaler.transform(df[[\"AMT_INCOME_TOTAL\", \"AMT_CREDIT\", \"AMT_ANNUITY\", \"AMT_GOODS_PRICE\", \"REGION_RATING_CLIENT_W_CITY\"]])\n",
    "        X[[\"DAYS_BIRTH\", \"DAYS_EMPLOYED\", \"DAYS_REGISTRATION\", \"DAYS_ID_PUBLISH\"]] = mm_scaler.transform(df[[\"DAYS_BIRTH\", \"DAYS_EMPLOYED\", \"DAYS_REGISTRATION\", \"DAYS_ID_PUBLISH\"]] * -1)\n",
    "        X[social_circle] = mm_scaler.transform(X[social_circle])\n",
    "        X[enquiries] = mm_scaler.transform(X[enquiries])\n",
    "    else:\n",
    "        X[[\"CNT_CHILDREN\"]] = mm_scaler.fit_transform(df[[\"CNT_CHILDREN\"]])\n",
    "        X[[\"AMT_INCOME_TOTAL\", \"AMT_CREDIT\", \"AMT_ANNUITY\", \"AMT_GOODS_PRICE\", \"REGION_RATING_CLIENT_W_CITY\"]] = std_scaler.fit_transform(df[[\"AMT_INCOME_TOTAL\", \"AMT_CREDIT\", \"AMT_ANNUITY\", \"AMT_GOODS_PRICE\", \"REGION_RATING_CLIENT_W_CITY\"]])\n",
    "        X[[\"DAYS_BIRTH\", \"DAYS_EMPLOYED\", \"DAYS_REGISTRATION\", \"DAYS_ID_PUBLISH\"]] = mm_scaler.fit_transform(df[[\"DAYS_BIRTH\", \"DAYS_EMPLOYED\", \"DAYS_REGISTRATION\", \"DAYS_ID_PUBLISH\"]] * -1)\n",
    "        X[social_circle] = mm_scaler.fit_transform(X[social_circle])\n",
    "        X[enquiries] = mm_scaler.fit_transform(X[enquiries])\n",
    "    \n",
    "    return X, y"
   ]
  },
  {
   "cell_type": "code",
   "execution_count": 12,
   "metadata": {},
   "outputs": [],
   "source": [
    "# preparing X and y for the split\n",
    "X, y = clean_data(normalized_data, test=False)"
   ]
  },
  {
   "cell_type": "code",
   "execution_count": 31,
   "metadata": {},
   "outputs": [],
   "source": [
    "# splitting the data with stratifying due imbalanced data\n",
    "from sklearn.model_selection import train_test_split\n",
    "\n",
    "RSEED = 50\n",
    "X_train, X_test, y_train, y_test = train_test_split(X, y, test_size=0.33, stratify = y, random_state = RSEED)"
   ]
  },
  {
   "cell_type": "code",
   "execution_count": 32,
   "metadata": {},
   "outputs": [],
   "source": [
    "# importing Regression models and evaluation matrices\n",
    "from sklearn.model_selection import train_test_split\n",
    "from sklearn.linear_model import LogisticRegression\n",
    "from sklearn.ensemble import RandomForestClassifier\n",
    "from sklearn.tree import DecisionTreeClassifier\n",
    "from xgboost import XGBClassifier\n",
    "from sklearn.metrics import classification_report, confusion_matrix, plot_confusion_matrix\n",
    "from sklearn.metrics import precision_score, recall_score, roc_auc_score, roc_curve, f1_score\n",
    "from sklearn.metrics import fbeta_score, accuracy_score, make_scorer, mean_squared_error\n",
    "from math import sqrt\n",
    "import itertools"
   ]
  },
  {
   "cell_type": "code",
   "execution_count": 33,
   "metadata": {},
   "outputs": [],
   "source": [
    "# Function for model training\n",
    "\n",
    "def train_predict(learner, sample_size, X_train, y_train, X_test, y_test): \n",
    "    '''\n",
    "    inputs:\n",
    "       - learner: the learning algorithm to be trained and predicted on\n",
    "       - sample_size: the size of samples (number) to be drawn from training set\n",
    "       - X_train: features training set\n",
    "       - y_train: income training set\n",
    "       - X_test: features testing set\n",
    "       - y_test: income testing set\n",
    "    '''\n",
    "    \n",
    "    results = {}\n",
    "    \n",
    "    # TODO: Fit the learner to the training data using slicing with 'sample_size'\n",
    "    start = time() # Get start time\n",
    "    learner = learner.fit(X_train[:sample_size] ,y_train[:sample_size])\n",
    "    end = time() # Get end time\n",
    "      \n",
    "    # Calculate the training time\n",
    "    results['train_time'] = end - start\n",
    "        \n",
    "    # Get the predictions on the test set,\n",
    "    # then get predictions on the first 1000 training samples\n",
    "    start = time() # Get start time\n",
    "    predictions_test = learner.predict(X_test)\n",
    "    predictions_train = learner.predict(X_train)\n",
    "    predictions_test_prob = learner.predict_proba(X_test)[:,1]\n",
    "    predictions_train_prob = learner.predict_proba(X_train)[:,1]\n",
    "    end = time() # Get end time\n",
    "    \n",
    "    '''\n",
    "    Evaluation through different parameters\n",
    "    '''\n",
    "    \n",
    "    # Calculate the total prediction time\n",
    "    results['pred_time'] = end - start\n",
    "            \n",
    "    # Compute accuracy on the train set\n",
    "    results['acc_train'] = accuracy_score(y_train,predictions_train)\n",
    "        \n",
    "    # Compute accuracy on test set\n",
    "    results['acc_test'] = accuracy_score(y_test,predictions_test)\n",
    "    \n",
    "    # Compute F-score on the the train set\n",
    "    results['f_beta_train'] = fbeta_score(y_train ,predictions_train,beta=1.5)\n",
    "        \n",
    "    # Compute F_beta-score on the test set\n",
    "    results['f_beta_test'] = fbeta_score(y_test,predictions_test,beta=1.5)\n",
    "    \n",
    "    # Compute Precision_score on the train set\n",
    "    results['Precision_train'] = precision_score(y_train, predictions_train)\n",
    "    \n",
    "    # Compute Precision_score on the test set\n",
    "    results['Precision_test'] = precision_score(y_test, predictions_test)\n",
    "    \n",
    "    # Compute Recall_score on the train set\n",
    "    results['Recall_train'] = recall_score(y_train ,predictions_train)\n",
    "    \n",
    "    # Compute Recall_score on the test set\n",
    "    results['Recall_test'] = recall_score(y_test, predictions_test)\n",
    "    \n",
    "    # Compute roc_auc_score on the train set\n",
    "    results['Roc_Auc_Score_train'] = roc_auc_score(y_train ,predictions_train)\n",
    "    \n",
    "    # Compute roc_auc_score on the train set\n",
    "    results['Roc_Auc_Score_test'] = roc_auc_score(y_test, predictions_test)\n",
    "    \n",
    "    # Compute f1_score on the train set\n",
    "    results['F1_score_train'] = f1_score(y_train ,predictions_train)\n",
    "    \n",
    "    # Compute f1_score on the test set\n",
    "    results['F1_score_test'] = f1_score(y_test ,predictions_test)\n",
    "    \n",
    "    # Compute RMSE on the train set\n",
    "    results['RMSE_train'] = sqrt(mean_squared_error(y_train ,predictions_train))\n",
    "    \n",
    "    \n",
    "    # Compute RMSE on the test set\n",
    "    results['RMSE_test'] = sqrt(mean_squared_error(y_test ,predictions_test))\n",
    "    \n",
    "    \n",
    "    # Success\n",
    "    print (\"{} trained on {} samples.\".format(learner.__class__.__name__, sample_size))\n",
    "    print(\"*\" *100)\n",
    "    print()\n",
    "    \n",
    "    '''\n",
    "    Evaluation through confusion matrix and ROC_CURVE plot\n",
    "    '''\n",
    "    \n",
    "    # confusion matrix\n",
    "    cm = confusion_matrix(y_test, predictions_test)\n",
    "    #cm = cm.astype('float') / cm.sum(axis=1)[:, np.newaxis] # normalize the data\n",
    "    \n",
    "    # plotting the confusion matrix\n",
    "    disp = plot_confusion_matrix(learner, X_test, y_test,\n",
    "                             display_labels=['non-defaulter', 'defaulter'],\n",
    "                             cmap=plt.cm.Blues, \n",
    "                             normalize=None,\n",
    "                             values_format = 'd')\n",
    "\n",
    "    plt.grid(False)\n",
    "    plt.show()\n",
    "    print()\n",
    "    print()\n",
    "    \n",
    "    # Calculate false positive rates and true positive rates\n",
    "    base_fpr, base_tpr, threshold_b = roc_curve(y_test, [1 for _ in range(len(y_test))])\n",
    "    model_fpr, model_tpr, threshold_m = roc_curve(y_test, predictions_test_prob)\n",
    "    \n",
    "    # plotting the ROC_curve:\n",
    "    plt.figure(figsize = (8, 6))\n",
    "    plt.rcParams['font.size'] = 16\n",
    "    \n",
    "    # Plot both curves\n",
    "    plt.plot(base_fpr, base_tpr, 'b', label = 'baseline')\n",
    "    plt.plot(model_fpr, model_tpr, 'r', label = 'model')\n",
    "    plt.legend();\n",
    "    plt.xlabel('False Positive Rate'); \n",
    "    plt.ylabel('True Positive Rate'); plt.title('ROC Curves');\n",
    "    plt.show();\n",
    "    \n",
    "    # Return the results\n",
    "    return results"
   ]
  },
  {
   "cell_type": "code",
   "execution_count": 44,
   "metadata": {},
   "outputs": [
    {
     "name": "stdout",
     "output_type": "stream",
     "text": [
      "LogisticRegression trained on 27465 samples.\n",
      "****************************************************************************************************\n",
      "\n"
     ]
    },
    {
     "data": {
      "image/png": "[encoded data removed]",
      "text/plain": [
       "<Figure size 432x288 with 2 Axes>"
      ]
     },
     "metadata": {
      "needs_background": "light"
     },
     "output_type": "display_data"
    },
    {
     "name": "stdout",
     "output_type": "stream",
     "text": [
      "\n",
      "\n"
     ]
    },
    {
     "data": {
      "image/png": "[encoded data removed]",
      "text/plain": [
       "<Figure size 576x432 with 1 Axes>"
      ]
     },
     "metadata": {
      "needs_background": "light"
     },
     "output_type": "display_data"
    },
    {
     "name": "stdout",
     "output_type": "stream",
     "text": [
      "DecisionTreeClassifier trained on 27465 samples.\n",
      "****************************************************************************************************\n",
      "\n"
     ]
    },
    {
     "data": {
      "image/png": "[encoded data removed]",
      "text/plain": [
       "<Figure size 432x288 with 2 Axes>"
      ]
     },
     "metadata": {
      "needs_background": "light"
     },
     "output_type": "display_data"
    },
    {
     "name": "stdout",
     "output_type": "stream",
     "text": [
      "\n",
      "\n"
     ]
    },
    {
     "data": {
      "image/png": "[encoded data removed]",
      "text/plain": [
       "<Figure size 576x432 with 1 Axes>"
      ]
     },
     "metadata": {
      "needs_background": "light"
     },
     "output_type": "display_data"
    },
    {
     "name": "stderr",
     "output_type": "stream",
     "text": [
      "[Parallel(n_jobs=-1)]: Using backend ThreadingBackend with 8 concurrent workers.\n",
      "[Parallel(n_jobs=-1)]: Done  34 tasks      | elapsed:    0.7s\n",
      "[Parallel(n_jobs=-1)]: Done 184 tasks      | elapsed:    3.0s\n",
      "[Parallel(n_jobs=-1)]: Done 200 out of 200 | elapsed:    3.3s finished\n",
      "[Parallel(n_jobs=8)]: Using backend ThreadingBackend with 8 concurrent workers.\n",
      "[Parallel(n_jobs=8)]: Done  34 tasks      | elapsed:    0.0s\n",
      "[Parallel(n_jobs=8)]: Done 184 tasks      | elapsed:    0.2s\n",
      "[Parallel(n_jobs=8)]: Done 200 out of 200 | elapsed:    0.2s finished\n",
      "[Parallel(n_jobs=8)]: Using backend ThreadingBackend with 8 concurrent workers.\n",
      "[Parallel(n_jobs=8)]: Done  34 tasks      | elapsed:    0.1s\n",
      "[Parallel(n_jobs=8)]: Done 184 tasks      | elapsed:    0.3s\n",
      "[Parallel(n_jobs=8)]: Done 200 out of 200 | elapsed:    0.3s finished\n",
      "[Parallel(n_jobs=8)]: Using backend ThreadingBackend with 8 concurrent workers.\n",
      "[Parallel(n_jobs=8)]: Done  34 tasks      | elapsed:    0.0s\n",
      "[Parallel(n_jobs=8)]: Done 184 tasks      | elapsed:    0.2s\n",
      "[Parallel(n_jobs=8)]: Done 200 out of 200 | elapsed:    0.2s finished\n",
      "[Parallel(n_jobs=8)]: Using backend ThreadingBackend with 8 concurrent workers.\n",
      "[Parallel(n_jobs=8)]: Done  34 tasks      | elapsed:    0.1s\n",
      "[Parallel(n_jobs=8)]: Done 184 tasks      | elapsed:    0.3s\n",
      "[Parallel(n_jobs=8)]: Done 200 out of 200 | elapsed:    0.3s finished\n",
      "[Parallel(n_jobs=8)]: Using backend ThreadingBackend with 8 concurrent workers.\n",
      "[Parallel(n_jobs=8)]: Done  34 tasks      | elapsed:    0.0s\n"
     ]
    },
    {
     "name": "stdout",
     "output_type": "stream",
     "text": [
      "RandomForestClassifier trained on 27465 samples.\n",
      "****************************************************************************************************\n",
      "\n"
     ]
    },
    {
     "name": "stderr",
     "output_type": "stream",
     "text": [
      "[Parallel(n_jobs=8)]: Done 184 tasks      | elapsed:    0.2s\n",
      "[Parallel(n_jobs=8)]: Done 200 out of 200 | elapsed:    0.2s finished\n"
     ]
    },
    {
     "data": {
      "image/png": "[encoded data removed]",
      "text/plain": [
       "<Figure size 432x288 with 2 Axes>"
      ]
     },
     "metadata": {
      "needs_background": "light"
     },
     "output_type": "display_data"
    },
    {
     "name": "stdout",
     "output_type": "stream",
     "text": [
      "\n",
      "\n"
     ]
    },
    {
     "data": {
      "image/png": "[encoded data removed]",
      "text/plain": [
       "<Figure size 576x432 with 1 Axes>"
      ]
     },
     "metadata": {
      "needs_background": "light"
     },
     "output_type": "display_data"
    },
    {
     "name": "stdout",
     "output_type": "stream",
     "text": [
      "XGBClassifier trained on 27465 samples.\n",
      "****************************************************************************************************\n",
      "\n"
     ]
    },
    {
     "data": {
      "image/png": "[encoded data removed]",
      "text/plain": [
       "<Figure size 432x288 with 2 Axes>"
      ]
     },
     "metadata": {
      "needs_background": "light"
     },
     "output_type": "display_data"
    },
    {
     "name": "stdout",
     "output_type": "stream",
     "text": [
      "\n",
      "\n"
     ]
    },
    {
     "data": {
      "image/png": "[encoded data removed]",
      "text/plain": [
       "<Figure size 576x432 with 1 Axes>"
      ]
     },
     "metadata": {
      "needs_background": "light"
     },
     "output_type": "display_data"
    }
   ],
   "source": [
    "# Initialize the three models, the random states are set to constant RSEED so we know how to reproduce the model later\n",
    "clf_A = LogisticRegression(random_state=RSEED)\n",
    "clf_B = DecisionTreeClassifier(random_state=RSEED)\n",
    "clf_C = RandomForestClassifier(n_estimators=200, \n",
    "                               random_state=RSEED, \n",
    "                               max_features = 'sqrt',  \n",
    "                               n_jobs=-1, verbose = 1)\n",
    "clf_D = XGBClassifier(n_estimators = 200, gamma = 100, \n",
    "                      learning_rate = 0.5, max_depth = 12, booster = 'gbtree',\n",
    "                      scale_pos_weight = 1.5)\n",
    "\n",
    "\n",
    "# Training data stored in a variable\n",
    "samples = len(X_train)\n",
    "\n",
    "\n",
    "# Collect results on the learners\n",
    "results = {}\n",
    "for clf in [clf_A, clf_B, clf_C, clf_D]:\n",
    "    clf_name = clf.__class__.__name__\n",
    "    results[clf_name] = {}\n",
    "    results[clf_name] = \\\n",
    "    train_predict(clf, samples, X_train, y_train, X_test, y_test)"
   ]
  },
  {
   "cell_type": "code",
   "execution_count": 42,
   "metadata": {},
   "outputs": [
    {
     "name": "stdout",
     "output_type": "stream",
     "text": [
      "LogisticRegression\n"
     ]
    },
    {
     "data": {
      "text/html": [
       "<div>\n",
       "<style scoped>\n",
       "    .dataframe tbody tr th:only-of-type {\n",
       "        vertical-align: middle;\n",
       "    }\n",
       "\n",
       "    .dataframe tbody tr th {\n",
       "        vertical-align: top;\n",
       "    }\n",
       "\n",
       "    .dataframe thead th {\n",
       "        text-align: right;\n",
       "    }\n",
       "</style>\n",
       "<table border=\"1\" class=\"dataframe\">\n",
       "  <thead>\n",
       "    <tr style=\"text-align: right;\">\n",
       "      <th></th>\n",
       "      <th>balanced data</th>\n",
       "    </tr>\n",
       "  </thead>\n",
       "  <tbody>\n",
       "    <tr>\n",
       "      <th>train_time</th>\n",
       "      <td>0.487240</td>\n",
       "    </tr>\n",
       "    <tr>\n",
       "      <th>pred_time</th>\n",
       "      <td>0.049925</td>\n",
       "    </tr>\n",
       "    <tr>\n",
       "      <th>acc_train</th>\n",
       "      <td>0.685600</td>\n",
       "    </tr>\n",
       "    <tr>\n",
       "      <th>acc_test</th>\n",
       "      <td>0.680686</td>\n",
       "    </tr>\n",
       "    <tr>\n",
       "      <th>f_beta_train</th>\n",
       "      <td>0.712703</td>\n",
       "    </tr>\n",
       "    <tr>\n",
       "      <th>f_beta_test</th>\n",
       "      <td>0.708509</td>\n",
       "    </tr>\n",
       "    <tr>\n",
       "      <th>Precision_train</th>\n",
       "      <td>0.691285</td>\n",
       "    </tr>\n",
       "    <tr>\n",
       "      <th>Precision_test</th>\n",
       "      <td>0.686565</td>\n",
       "    </tr>\n",
       "    <tr>\n",
       "      <th>Recall_train</th>\n",
       "      <td>0.722655</td>\n",
       "    </tr>\n",
       "    <tr>\n",
       "      <th>Recall_test</th>\n",
       "      <td>0.718719</td>\n",
       "    </tr>\n",
       "    <tr>\n",
       "      <th>Roc_Auc_Score_train</th>\n",
       "      <td>0.683736</td>\n",
       "    </tr>\n",
       "    <tr>\n",
       "      <th>Roc_Auc_Score_test</th>\n",
       "      <td>0.678770</td>\n",
       "    </tr>\n",
       "    <tr>\n",
       "      <th>F1_score_train</th>\n",
       "      <td>0.706622</td>\n",
       "    </tr>\n",
       "    <tr>\n",
       "      <th>F1_score_test</th>\n",
       "      <td>0.702274</td>\n",
       "    </tr>\n",
       "    <tr>\n",
       "      <th>RMSE_train</th>\n",
       "      <td>0.560714</td>\n",
       "    </tr>\n",
       "    <tr>\n",
       "      <th>RMSE_test</th>\n",
       "      <td>0.565079</td>\n",
       "    </tr>\n",
       "  </tbody>\n",
       "</table>\n",
       "</div>"
      ],
      "text/plain": [
       "                     balanced data\n",
       "train_time                0.487240\n",
       "pred_time                 0.049925\n",
       "acc_train                 0.685600\n",
       "acc_test                  0.680686\n",
       "f_beta_train              0.712703\n",
       "f_beta_test               0.708509\n",
       "Precision_train           0.691285\n",
       "Precision_test            0.686565\n",
       "Recall_train              0.722655\n",
       "Recall_test               0.718719\n",
       "Roc_Auc_Score_train       0.683736\n",
       "Roc_Auc_Score_test        0.678770\n",
       "F1_score_train            0.706622\n",
       "F1_score_test             0.702274\n",
       "RMSE_train                0.560714\n",
       "RMSE_test                 0.565079"
      ]
     },
     "metadata": {},
     "output_type": "display_data"
    },
    {
     "name": "stdout",
     "output_type": "stream",
     "text": [
      "DecisionTreeClassifier\n"
     ]
    },
    {
     "data": {
      "text/html": [
       "<div>\n",
       "<style scoped>\n",
       "    .dataframe tbody tr th:only-of-type {\n",
       "        vertical-align: middle;\n",
       "    }\n",
       "\n",
       "    .dataframe tbody tr th {\n",
       "        vertical-align: top;\n",
       "    }\n",
       "\n",
       "    .dataframe thead th {\n",
       "        text-align: right;\n",
       "    }\n",
       "</style>\n",
       "<table border=\"1\" class=\"dataframe\">\n",
       "  <thead>\n",
       "    <tr style=\"text-align: right;\">\n",
       "      <th></th>\n",
       "      <th>balanced data</th>\n",
       "    </tr>\n",
       "  </thead>\n",
       "  <tbody>\n",
       "    <tr>\n",
       "      <th>train_time</th>\n",
       "      <td>1.163052</td>\n",
       "    </tr>\n",
       "    <tr>\n",
       "      <th>pred_time</th>\n",
       "      <td>0.078548</td>\n",
       "    </tr>\n",
       "    <tr>\n",
       "      <th>acc_train</th>\n",
       "      <td>1.000000</td>\n",
       "    </tr>\n",
       "    <tr>\n",
       "      <th>acc_test</th>\n",
       "      <td>0.579718</td>\n",
       "    </tr>\n",
       "    <tr>\n",
       "      <th>f_beta_train</th>\n",
       "      <td>1.000000</td>\n",
       "    </tr>\n",
       "    <tr>\n",
       "      <th>f_beta_test</th>\n",
       "      <td>0.594393</td>\n",
       "    </tr>\n",
       "    <tr>\n",
       "      <th>Precision_train</th>\n",
       "      <td>1.000000</td>\n",
       "    </tr>\n",
       "    <tr>\n",
       "      <th>Precision_test</th>\n",
       "      <td>0.600401</td>\n",
       "    </tr>\n",
       "    <tr>\n",
       "      <th>Recall_train</th>\n",
       "      <td>1.000000</td>\n",
       "    </tr>\n",
       "    <tr>\n",
       "      <th>Recall_test</th>\n",
       "      <td>0.591762</td>\n",
       "    </tr>\n",
       "    <tr>\n",
       "      <th>Roc_Auc_Score_train</th>\n",
       "      <td>1.000000</td>\n",
       "    </tr>\n",
       "    <tr>\n",
       "      <th>Roc_Auc_Score_test</th>\n",
       "      <td>0.579111</td>\n",
       "    </tr>\n",
       "    <tr>\n",
       "      <th>F1_score_train</th>\n",
       "      <td>1.000000</td>\n",
       "    </tr>\n",
       "    <tr>\n",
       "      <th>F1_score_test</th>\n",
       "      <td>0.596050</td>\n",
       "    </tr>\n",
       "    <tr>\n",
       "      <th>RMSE_train</th>\n",
       "      <td>0.000000</td>\n",
       "    </tr>\n",
       "    <tr>\n",
       "      <th>RMSE_test</th>\n",
       "      <td>0.648292</td>\n",
       "    </tr>\n",
       "  </tbody>\n",
       "</table>\n",
       "</div>"
      ],
      "text/plain": [
       "                     balanced data\n",
       "train_time                1.163052\n",
       "pred_time                 0.078548\n",
       "acc_train                 1.000000\n",
       "acc_test                  0.579718\n",
       "f_beta_train              1.000000\n",
       "f_beta_test               0.594393\n",
       "Precision_train           1.000000\n",
       "Precision_test            0.600401\n",
       "Recall_train              1.000000\n",
       "Recall_test               0.591762\n",
       "Roc_Auc_Score_train       1.000000\n",
       "Roc_Auc_Score_test        0.579111\n",
       "F1_score_train            1.000000\n",
       "F1_score_test             0.596050\n",
       "RMSE_train                0.000000\n",
       "RMSE_test                 0.648292"
      ]
     },
     "metadata": {},
     "output_type": "display_data"
    },
    {
     "name": "stdout",
     "output_type": "stream",
     "text": [
      "RandomForestClassifier\n"
     ]
    },
    {
     "data": {
      "text/html": [
       "<div>\n",
       "<style scoped>\n",
       "    .dataframe tbody tr th:only-of-type {\n",
       "        vertical-align: middle;\n",
       "    }\n",
       "\n",
       "    .dataframe tbody tr th {\n",
       "        vertical-align: top;\n",
       "    }\n",
       "\n",
       "    .dataframe thead th {\n",
       "        text-align: right;\n",
       "    }\n",
       "</style>\n",
       "<table border=\"1\" class=\"dataframe\">\n",
       "  <thead>\n",
       "    <tr style=\"text-align: right;\">\n",
       "      <th></th>\n",
       "      <th>balanced data</th>\n",
       "    </tr>\n",
       "  </thead>\n",
       "  <tbody>\n",
       "    <tr>\n",
       "      <th>train_time</th>\n",
       "      <td>3.297999</td>\n",
       "    </tr>\n",
       "    <tr>\n",
       "      <th>pred_time</th>\n",
       "      <td>1.041992</td>\n",
       "    </tr>\n",
       "    <tr>\n",
       "      <th>acc_train</th>\n",
       "      <td>1.000000</td>\n",
       "    </tr>\n",
       "    <tr>\n",
       "      <th>acc_test</th>\n",
       "      <td>0.675734</td>\n",
       "    </tr>\n",
       "    <tr>\n",
       "      <th>f_beta_train</th>\n",
       "      <td>1.000000</td>\n",
       "    </tr>\n",
       "    <tr>\n",
       "      <th>f_beta_test</th>\n",
       "      <td>0.700091</td>\n",
       "    </tr>\n",
       "    <tr>\n",
       "      <th>Precision_train</th>\n",
       "      <td>1.000000</td>\n",
       "    </tr>\n",
       "    <tr>\n",
       "      <th>Precision_test</th>\n",
       "      <td>0.684412</td>\n",
       "    </tr>\n",
       "    <tr>\n",
       "      <th>Recall_train</th>\n",
       "      <td>1.000000</td>\n",
       "    </tr>\n",
       "    <tr>\n",
       "      <th>Recall_test</th>\n",
       "      <td>0.707293</td>\n",
       "    </tr>\n",
       "    <tr>\n",
       "      <th>Roc_Auc_Score_train</th>\n",
       "      <td>1.000000</td>\n",
       "    </tr>\n",
       "    <tr>\n",
       "      <th>Roc_Auc_Score_test</th>\n",
       "      <td>0.674143</td>\n",
       "    </tr>\n",
       "    <tr>\n",
       "      <th>F1_score_train</th>\n",
       "      <td>1.000000</td>\n",
       "    </tr>\n",
       "    <tr>\n",
       "      <th>F1_score_test</th>\n",
       "      <td>0.695664</td>\n",
       "    </tr>\n",
       "    <tr>\n",
       "      <th>RMSE_train</th>\n",
       "      <td>0.000000</td>\n",
       "    </tr>\n",
       "    <tr>\n",
       "      <th>RMSE_test</th>\n",
       "      <td>0.569444</td>\n",
       "    </tr>\n",
       "  </tbody>\n",
       "</table>\n",
       "</div>"
      ],
      "text/plain": [
       "                     balanced data\n",
       "train_time                3.297999\n",
       "pred_time                 1.041992\n",
       "acc_train                 1.000000\n",
       "acc_test                  0.675734\n",
       "f_beta_train              1.000000\n",
       "f_beta_test               0.700091\n",
       "Precision_train           1.000000\n",
       "Precision_test            0.684412\n",
       "Recall_train              1.000000\n",
       "Recall_test               0.707293\n",
       "Roc_Auc_Score_train       1.000000\n",
       "Roc_Auc_Score_test        0.674143\n",
       "F1_score_train            1.000000\n",
       "F1_score_test             0.695664\n",
       "RMSE_train                0.000000\n",
       "RMSE_test                 0.569444"
      ]
     },
     "metadata": {},
     "output_type": "display_data"
    },
    {
     "name": "stdout",
     "output_type": "stream",
     "text": [
      "XGBClassifier\n"
     ]
    },
    {
     "data": {
      "text/html": [
       "<div>\n",
       "<style scoped>\n",
       "    .dataframe tbody tr th:only-of-type {\n",
       "        vertical-align: middle;\n",
       "    }\n",
       "\n",
       "    .dataframe tbody tr th {\n",
       "        vertical-align: top;\n",
       "    }\n",
       "\n",
       "    .dataframe thead th {\n",
       "        text-align: right;\n",
       "    }\n",
       "</style>\n",
       "<table border=\"1\" class=\"dataframe\">\n",
       "  <thead>\n",
       "    <tr style=\"text-align: right;\">\n",
       "      <th></th>\n",
       "      <th>balanced data</th>\n",
       "    </tr>\n",
       "  </thead>\n",
       "  <tbody>\n",
       "    <tr>\n",
       "      <th>train_time</th>\n",
       "      <td>27.596003</td>\n",
       "    </tr>\n",
       "    <tr>\n",
       "      <th>pred_time</th>\n",
       "      <td>0.433396</td>\n",
       "    </tr>\n",
       "    <tr>\n",
       "      <th>acc_train</th>\n",
       "      <td>0.621628</td>\n",
       "    </tr>\n",
       "    <tr>\n",
       "      <th>acc_test</th>\n",
       "      <td>0.615788</td>\n",
       "    </tr>\n",
       "    <tr>\n",
       "      <th>f_beta_train</th>\n",
       "      <td>0.786934</td>\n",
       "    </tr>\n",
       "    <tr>\n",
       "      <th>f_beta_test</th>\n",
       "      <td>0.783989</td>\n",
       "    </tr>\n",
       "    <tr>\n",
       "      <th>Precision_train</th>\n",
       "      <td>0.588256</td>\n",
       "    </tr>\n",
       "    <tr>\n",
       "      <th>Precision_test</th>\n",
       "      <td>0.584307</td>\n",
       "    </tr>\n",
       "    <tr>\n",
       "      <th>Recall_train</th>\n",
       "      <td>0.925921</td>\n",
       "    </tr>\n",
       "    <tr>\n",
       "      <th>Recall_test</th>\n",
       "      <td>0.924390</td>\n",
       "    </tr>\n",
       "    <tr>\n",
       "      <th>Roc_Auc_Score_train</th>\n",
       "      <td>0.606326</td>\n",
       "    </tr>\n",
       "    <tr>\n",
       "      <th>Roc_Auc_Score_test</th>\n",
       "      <td>0.600238</td>\n",
       "    </tr>\n",
       "    <tr>\n",
       "      <th>F1_score_train</th>\n",
       "      <td>0.719438</td>\n",
       "    </tr>\n",
       "    <tr>\n",
       "      <th>F1_score_test</th>\n",
       "      <td>0.716018</td>\n",
       "    </tr>\n",
       "    <tr>\n",
       "      <th>RMSE_train</th>\n",
       "      <td>0.615120</td>\n",
       "    </tr>\n",
       "    <tr>\n",
       "      <th>RMSE_test</th>\n",
       "      <td>0.619848</td>\n",
       "    </tr>\n",
       "  </tbody>\n",
       "</table>\n",
       "</div>"
      ],
      "text/plain": [
       "                     balanced data\n",
       "train_time               27.596003\n",
       "pred_time                 0.433396\n",
       "acc_train                 0.621628\n",
       "acc_test                  0.615788\n",
       "f_beta_train              0.786934\n",
       "f_beta_test               0.783989\n",
       "Precision_train           0.588256\n",
       "Precision_test            0.584307\n",
       "Recall_train              0.925921\n",
       "Recall_test               0.924390\n",
       "Roc_Auc_Score_train       0.606326\n",
       "Roc_Auc_Score_test        0.600238\n",
       "F1_score_train            0.719438\n",
       "F1_score_test             0.716018\n",
       "RMSE_train                0.615120\n",
       "RMSE_test                 0.619848"
      ]
     },
     "metadata": {},
     "output_type": "display_data"
    }
   ],
   "source": [
    "#Printing out the rasult values\n",
    "for i in results.items():\n",
    "    print (i[0])\n",
    "    display(pd.DataFrame.from_dict(i[1], orient='index').rename(columns={0:'balanced data'}))"
   ]
  },
  {
   "cell_type": "markdown",
   "metadata": {},
   "source": [
    "## Using Random Search CV to find the best parameter"
   ]
  },
  {
   "cell_type": "code",
   "execution_count": 18,
   "metadata": {},
   "outputs": [
    {
     "name": "stdout",
     "output_type": "stream",
     "text": [
      "Fitting 5 folds for each of 10 candidates, totalling 50 fits\n"
     ]
    },
    {
     "name": "stderr",
     "output_type": "stream",
     "text": [
      "[Parallel(n_jobs=-1)]: Using backend LokyBackend with 8 concurrent workers.\n",
      "[Parallel(n_jobs=-1)]: Done   2 tasks      | elapsed:    6.8s\n",
      "[Parallel(n_jobs=-1)]: Done  46 out of  50 | elapsed:  3.2min remaining:   16.9s\n",
      "[Parallel(n_jobs=-1)]: Done  50 out of  50 | elapsed:  3.4min finished\n"
     ]
    },
    {
     "data": {
      "text/plain": [
       "RandomizedSearchCV(cv=5, estimator=RandomForestClassifier(random_state=50),\n",
       "                   n_jobs=-1,\n",
       "                   param_distributions={'bootstrap': [True, False],\n",
       "                                        'max_depth': [None, 3, 3, 3, 4, 4, 4, 5,\n",
       "                                                      5, 5, 6, 6, 6, 7, 7, 7, 8,\n",
       "                                                      8, 8, 9, 9, 9, 10, 10, 10,\n",
       "                                                      11, 11, 12, 12, 12, ...],\n",
       "                                        'max_features': ['auto', 'sqrt', None,\n",
       "                                                         0.5, 0.6, 0.7,\n",
       "                                                         0.7999999999999999,\n",
       "                                                         0.8999999999999999],\n",
       "                                        'max_leaf_nodes': [None, 10, 10, 10, 10,\n",
       "                                                           10, 10, 10, 10, 10,\n",
       "                                                           10, 10, 10, 10, 11,\n",
       "                                                           11, 11, 11, 11, 11,\n",
       "                                                           11, 11, 11, 11, 11,\n",
       "                                                           11, 12, 12, 12, 12, ...],\n",
       "                                        'min_samples_split': [2, 5, 10],\n",
       "                                        'n_estimators': array([ 10,  13,  17,  21,  25,  29,  33,  37,  41,  44,  48,  52,  56,\n",
       "        60,  64,  68,  72,  75,  79,  83,  87,  91,  95,  99, 103, 106,\n",
       "       110, 114, 118, 122, 126, 130, 134, 137, 141, 145, 149, 153, 157,\n",
       "       161, 165, 168, 172, 176, 180, 184, 188, 192, 196, 200])},\n",
       "                   random_state=50, scoring='roc_auc', verbose=5)"
      ]
     },
     "execution_count": 18,
     "metadata": {},
     "output_type": "execute_result"
    }
   ],
   "source": [
    "from sklearn.model_selection import RandomizedSearchCV\n",
    "\n",
    "# Random forest model with Random Search CV\n",
    "\n",
    "# Hyperparameter tuning\n",
    "param_grid = {\n",
    "    'n_estimators': np.linspace(10, 200).astype(int),\n",
    "    'max_depth': [None] + list(np.linspace(3, 20).astype(int)),\n",
    "    'max_features': ['auto', 'sqrt', None] + list(np.arange(0.5, 1, 0.1)),\n",
    "    'max_leaf_nodes': [None] + list(np.linspace(10, 50, 500).astype(int)),\n",
    "    'min_samples_split': [2, 5, 10],\n",
    "    'bootstrap': [True, False]\n",
    "}\n",
    "\n",
    "# Estimator for use in random search\n",
    "estimator = RandomForestClassifier(random_state = RSEED)\n",
    "\n",
    "# Create the random search model\n",
    "rs = RandomizedSearchCV(estimator, param_grid, n_jobs = -1, \n",
    "                        scoring = 'roc_auc', cv = 5, \n",
    "                        n_iter = 10, verbose = 5, random_state=RSEED)\n",
    "\n",
    "# Fit \n",
    "rs.fit(X_train, y_train)"
   ]
  },
  {
   "cell_type": "code",
   "execution_count": 19,
   "metadata": {},
   "outputs": [
    {
     "data": {
      "text/plain": [
       "{'n_estimators': 188,\n",
       " 'min_samples_split': 2,\n",
       " 'max_leaf_nodes': 33,\n",
       " 'max_features': 0.7999999999999999,\n",
       " 'max_depth': 12,\n",
       " 'bootstrap': True}"
      ]
     },
     "execution_count": 19,
     "metadata": {},
     "output_type": "execute_result"
    }
   ],
   "source": [
    "rs.best_params_"
   ]
  },
  {
   "cell_type": "markdown",
   "metadata": {},
   "source": [
    "## Use Best Model\n",
    "\n",
    "Now we can take the best model (it has already been trained) and evaluate it. Hopefully it does better than the stock Random Forest."
   ]
  },
  {
   "cell_type": "code",
   "execution_count": 20,
   "metadata": {},
   "outputs": [],
   "source": [
    "best_model = rs.best_estimator_"
   ]
  },
  {
   "cell_type": "code",
   "execution_count": 21,
   "metadata": {},
   "outputs": [],
   "source": [
    "train_rf_predictions = best_model.predict(X_train)\n",
    "train_rf_probs = best_model.predict_proba(X_train)[:, 1]\n",
    "\n",
    "test_rf_predictions = best_model.predict(X_test)\n",
    "test_rf_probs = best_model.predict_proba(X_test)[:, 1]"
   ]
  },
  {
   "cell_type": "code",
   "execution_count": 22,
   "metadata": {},
   "outputs": [
    {
     "name": "stdout",
     "output_type": "stream",
     "text": [
      "[[4052 2388]\n",
      " [2085 5004]]\n"
     ]
    }
   ],
   "source": [
    "print(confusion_matrix(y_test, test_rf_predictions))"
   ]
  }
 ],
 "metadata": {
  "kernelspec": {
   "display_name": "Python 3",
   "language": "python",
   "name": "python3"
  },
  "language_info": {
   "codemirror_mode": {
    "name": "ipython",
    "version": 3
   },
   "file_extension": ".py",
   "mimetype": "text/x-python",
   "name": "python",
   "nbconvert_exporter": "python",
   "pygments_lexer": "ipython3",
   "version": "3.8.5"
  }
 },
 "nbformat": 4,
 "nbformat_minor": 4
}
